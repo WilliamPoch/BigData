{
 "cells": [
  {
   "cell_type": "markdown",
   "metadata": {},
   "source": [
    "# Download Data"
   ]
  },
  {
   "cell_type": "code",
   "execution_count": 1,
   "metadata": {},
   "outputs": [
    {
     "name": "stdout",
     "output_type": "stream",
     "text": [
      "--2020-04-13 06:23:26--  https://s3.amazonaws.com/imcbucket/data/flights/2008.csv\n",
      "Resolving s3.amazonaws.com (s3.amazonaws.com)... 52.216.136.13\n",
      "Connecting to s3.amazonaws.com (s3.amazonaws.com)|52.216.136.13|:443... connected.\n",
      "HTTP request sent, awaiting response... 200 OK\n",
      "Length: 689413344 (657M) [binary/octet-stream]\n",
      "Saving to: ‘2008.csv.5’\n",
      "\n",
      "2008.csv.5          100%[===================>] 657.48M  50.3MB/s    in 11s     \n",
      "\n",
      "2020-04-13 06:23:36 (62.5 MB/s) - ‘2008.csv.5’ saved [689413344/689413344]\n",
      "\n"
     ]
    }
   ],
   "source": [
    "!wget  https://s3.amazonaws.com/imcbucket/data/flights/2008.csv"
   ]
  },
  {
   "cell_type": "markdown",
   "metadata": {},
   "source": [
    "# Upload to HDFS"
   ]
  },
  {
   "cell_type": "code",
   "execution_count": 2,
   "metadata": {},
   "outputs": [],
   "source": [
    "!hdfs dfs -mkdir -p /user/williampoch42/input"
   ]
  },
  {
   "cell_type": "code",
   "execution_count": 3,
   "metadata": {},
   "outputs": [
    {
     "name": "stdout",
     "output_type": "stream",
     "text": [
      "put: `/user/williampoch42/input/2008.csv': File exists\r\n"
     ]
    }
   ],
   "source": [
    "!hadoop fs -put 2008.csv /user/williampoch42/input"
   ]
  },
  {
   "cell_type": "code",
   "execution_count": 4,
   "metadata": {},
   "outputs": [
    {
     "name": "stdout",
     "output_type": "stream",
     "text": [
      "Found 1 items\r\n",
      "-rw-r--r--   2 root hadoop  689413344 2020-04-13 03:23 /user/williampoch42/input/2008.csv\r\n"
     ]
    }
   ],
   "source": [
    "!hdfs dfs -ls /user/williampoch42/input"
   ]
  },
  {
   "cell_type": "markdown",
   "metadata": {},
   "source": [
    "# Load the CSV to a DataFrame"
   ]
  },
  {
   "cell_type": "code",
   "execution_count": 5,
   "metadata": {},
   "outputs": [],
   "source": [
    "airline_df = spark.read.format('csv').\\\n",
    "option('header','true').option('mode','DROPMALFORMED')\\\n",
    ".load('/user/williampoch42/input/2008.csv')"
   ]
  },
  {
   "cell_type": "code",
   "execution_count": 6,
   "metadata": {
    "scrolled": true
   },
   "outputs": [
    {
     "name": "stdout",
     "output_type": "stream",
     "text": [
      "root\n",
      " |-- Year: string (nullable = true)\n",
      " |-- Month: string (nullable = true)\n",
      " |-- DayofMonth: string (nullable = true)\n",
      " |-- DayOfWeek: string (nullable = true)\n",
      " |-- DepTime: string (nullable = true)\n",
      " |-- CRSDepTime: string (nullable = true)\n",
      " |-- ArrTime: string (nullable = true)\n",
      " |-- CRSArrTime: string (nullable = true)\n",
      " |-- UniqueCarrier: string (nullable = true)\n",
      " |-- FlightNum: string (nullable = true)\n",
      " |-- TailNum: string (nullable = true)\n",
      " |-- ActualElapsedTime: string (nullable = true)\n",
      " |-- CRSElapsedTime: string (nullable = true)\n",
      " |-- AirTime: string (nullable = true)\n",
      " |-- ArrDelay: string (nullable = true)\n",
      " |-- DepDelay: string (nullable = true)\n",
      " |-- Origin: string (nullable = true)\n",
      " |-- Dest: string (nullable = true)\n",
      " |-- Distance: string (nullable = true)\n",
      " |-- TaxiIn: string (nullable = true)\n",
      " |-- TaxiOut: string (nullable = true)\n",
      " |-- Cancelled: string (nullable = true)\n",
      " |-- CancellationCode: string (nullable = true)\n",
      " |-- Diverted: string (nullable = true)\n",
      " |-- CarrierDelay: string (nullable = true)\n",
      " |-- WeatherDelay: string (nullable = true)\n",
      " |-- NASDelay: string (nullable = true)\n",
      " |-- SecurityDelay: string (nullable = true)\n",
      " |-- LateAircraftDelay: string (nullable = true)\n",
      "\n"
     ]
    }
   ],
   "source": [
    "airline_df.printSchema()"
   ]
  },
  {
   "cell_type": "markdown",
   "metadata": {},
   "source": [
    "# Modeling (and making some data transformation)\n",
    "## Convert some string fields to double"
   ]
  },
  {
   "cell_type": "code",
   "execution_count": 7,
   "metadata": {},
   "outputs": [],
   "source": [
    "from pyspark.sql.types import *\n",
    "from pyspark.sql.functions import col, udf\n",
    "\n",
    "airline_df = airline_df.\\\n",
    "withColumn('DepTime',airline_df['DepTime'].\\\n",
    "           cast(DoubleType())).\\\n",
    "withColumn('TaxiOut',airline_df['TaxiOut'].\\\n",
    "           cast(DoubleType())).\\\n",
    "withColumn('TaxiIn',airline_df['TaxiIn'].\\\n",
    "           cast(DoubleType())).\\\n",
    "withColumn('DepDelay',airline_df['DepDelay'].\\\n",
    "           cast(DoubleType())).\\\n",
    "withColumn('DayOfWeek',airline_df['DayOfWeek'].\\\n",
    "           cast(DoubleType())).\\\n",
    "withColumn('Distance',airline_df['Distance'].\\\n",
    "           cast(DoubleType())).\\\n",
    "withColumn('ArrDelay',airline_df['ArrDelay'].\\\n",
    "           cast(DoubleType()))"
   ]
  },
  {
   "cell_type": "code",
   "execution_count": 8,
   "metadata": {},
   "outputs": [
    {
     "name": "stdout",
     "output_type": "stream",
     "text": [
      "root\n",
      " |-- Year: string (nullable = true)\n",
      " |-- Month: string (nullable = true)\n",
      " |-- DayofMonth: string (nullable = true)\n",
      " |-- DayOfWeek: double (nullable = true)\n",
      " |-- DepTime: double (nullable = true)\n",
      " |-- CRSDepTime: string (nullable = true)\n",
      " |-- ArrTime: string (nullable = true)\n",
      " |-- CRSArrTime: string (nullable = true)\n",
      " |-- UniqueCarrier: string (nullable = true)\n",
      " |-- FlightNum: string (nullable = true)\n",
      " |-- TailNum: string (nullable = true)\n",
      " |-- ActualElapsedTime: string (nullable = true)\n",
      " |-- CRSElapsedTime: string (nullable = true)\n",
      " |-- AirTime: string (nullable = true)\n",
      " |-- ArrDelay: double (nullable = true)\n",
      " |-- DepDelay: double (nullable = true)\n",
      " |-- Origin: string (nullable = true)\n",
      " |-- Dest: string (nullable = true)\n",
      " |-- Distance: double (nullable = true)\n",
      " |-- TaxiIn: double (nullable = true)\n",
      " |-- TaxiOut: double (nullable = true)\n",
      " |-- Cancelled: string (nullable = true)\n",
      " |-- CancellationCode: string (nullable = true)\n",
      " |-- Diverted: string (nullable = true)\n",
      " |-- CarrierDelay: string (nullable = true)\n",
      " |-- WeatherDelay: string (nullable = true)\n",
      " |-- NASDelay: string (nullable = true)\n",
      " |-- SecurityDelay: string (nullable = true)\n",
      " |-- LateAircraftDelay: string (nullable = true)\n",
      "\n"
     ]
    }
   ],
   "source": [
    "airline_df.printSchema()"
   ]
  },
  {
   "cell_type": "code",
   "execution_count": 9,
   "metadata": {},
   "outputs": [
    {
     "data": {
      "text/plain": [
       "[Row(Year='2008', Month='1', DayofMonth='3', DayOfWeek=4.0, DepTime=2003.0, CRSDepTime='1955', ArrTime='2211', CRSArrTime='2225', UniqueCarrier='WN', FlightNum='335', TailNum='N712SW', ActualElapsedTime='128', CRSElapsedTime='150', AirTime='116', ArrDelay=-14.0, DepDelay=8.0, Origin='IAD', Dest='TPA', Distance=810.0, TaxiIn=4.0, TaxiOut=8.0, Cancelled='0', CancellationCode=None, Diverted='0', CarrierDelay='NA', WeatherDelay='NA', NASDelay='NA', SecurityDelay='NA', LateAircraftDelay='NA'),\n",
       " Row(Year='2008', Month='1', DayofMonth='3', DayOfWeek=4.0, DepTime=754.0, CRSDepTime='735', ArrTime='1002', CRSArrTime='1000', UniqueCarrier='WN', FlightNum='3231', TailNum='N772SW', ActualElapsedTime='128', CRSElapsedTime='145', AirTime='113', ArrDelay=2.0, DepDelay=19.0, Origin='IAD', Dest='TPA', Distance=810.0, TaxiIn=5.0, TaxiOut=10.0, Cancelled='0', CancellationCode=None, Diverted='0', CarrierDelay='NA', WeatherDelay='NA', NASDelay='NA', SecurityDelay='NA', LateAircraftDelay='NA'),\n",
       " Row(Year='2008', Month='1', DayofMonth='3', DayOfWeek=4.0, DepTime=628.0, CRSDepTime='620', ArrTime='804', CRSArrTime='750', UniqueCarrier='WN', FlightNum='448', TailNum='N428WN', ActualElapsedTime='96', CRSElapsedTime='90', AirTime='76', ArrDelay=14.0, DepDelay=8.0, Origin='IND', Dest='BWI', Distance=515.0, TaxiIn=3.0, TaxiOut=17.0, Cancelled='0', CancellationCode=None, Diverted='0', CarrierDelay='NA', WeatherDelay='NA', NASDelay='NA', SecurityDelay='NA', LateAircraftDelay='NA'),\n",
       " Row(Year='2008', Month='1', DayofMonth='3', DayOfWeek=4.0, DepTime=926.0, CRSDepTime='930', ArrTime='1054', CRSArrTime='1100', UniqueCarrier='WN', FlightNum='1746', TailNum='N612SW', ActualElapsedTime='88', CRSElapsedTime='90', AirTime='78', ArrDelay=-6.0, DepDelay=-4.0, Origin='IND', Dest='BWI', Distance=515.0, TaxiIn=3.0, TaxiOut=7.0, Cancelled='0', CancellationCode=None, Diverted='0', CarrierDelay='NA', WeatherDelay='NA', NASDelay='NA', SecurityDelay='NA', LateAircraftDelay='NA'),\n",
       " Row(Year='2008', Month='1', DayofMonth='3', DayOfWeek=4.0, DepTime=1829.0, CRSDepTime='1755', ArrTime='1959', CRSArrTime='1925', UniqueCarrier='WN', FlightNum='3920', TailNum='N464WN', ActualElapsedTime='90', CRSElapsedTime='90', AirTime='77', ArrDelay=34.0, DepDelay=34.0, Origin='IND', Dest='BWI', Distance=515.0, TaxiIn=3.0, TaxiOut=10.0, Cancelled='0', CancellationCode=None, Diverted='0', CarrierDelay='2', WeatherDelay='0', NASDelay='0', SecurityDelay='0', LateAircraftDelay='32')]"
      ]
     },
     "execution_count": 9,
     "metadata": {},
     "output_type": "execute_result"
    }
   ],
   "source": [
    "airline_df.take(5)"
   ]
  },
  {
   "cell_type": "markdown",
   "metadata": {},
   "source": [
    "## Discretize DepTime from scalar (double) into 1 of the size possible value."
   ]
  },
  {
   "cell_type": "code",
   "execution_count": 10,
   "metadata": {},
   "outputs": [],
   "source": [
    "def t_timeperiod(origin):\n",
    "    if origin is None:\n",
    "        period = None\n",
    "    elif origin > 0 and origin < 600:\n",
    "        period = '00.01-05.59'\n",
    "    elif origin >= 600 and origin <=1200:\n",
    "        period = '06.00-11.59'\n",
    "    elif origin >= 1200 and origin <= 1800:\n",
    "        period = '12.00-17.59'\n",
    "    elif origin >= 1800 and origin <= 2400:\n",
    "        period = '18.00-24.00'\n",
    "    else:\n",
    "        period = 'NA'\n",
    "    return period"
   ]
  },
  {
   "cell_type": "code",
   "execution_count": 11,
   "metadata": {},
   "outputs": [],
   "source": [
    "timeperiod = udf(lambda x: t_timeperiod(x),StringType())"
   ]
  },
  {
   "cell_type": "code",
   "execution_count": 12,
   "metadata": {},
   "outputs": [],
   "source": [
    "airline_df2 = airline_df.withColumn('DepTime',timeperiod(airline_df['DepTime']))"
   ]
  },
  {
   "cell_type": "code",
   "execution_count": 13,
   "metadata": {},
   "outputs": [
    {
     "data": {
      "text/plain": [
       "[Row(Year='2008', Month='1', DayofMonth='3', DayOfWeek=4.0, DepTime='18.00-24.00', CRSDepTime='1955', ArrTime='2211', CRSArrTime='2225', UniqueCarrier='WN', FlightNum='335', TailNum='N712SW', ActualElapsedTime='128', CRSElapsedTime='150', AirTime='116', ArrDelay=-14.0, DepDelay=8.0, Origin='IAD', Dest='TPA', Distance=810.0, TaxiIn=4.0, TaxiOut=8.0, Cancelled='0', CancellationCode=None, Diverted='0', CarrierDelay='NA', WeatherDelay='NA', NASDelay='NA', SecurityDelay='NA', LateAircraftDelay='NA'),\n",
       " Row(Year='2008', Month='1', DayofMonth='3', DayOfWeek=4.0, DepTime='06.00-11.59', CRSDepTime='735', ArrTime='1002', CRSArrTime='1000', UniqueCarrier='WN', FlightNum='3231', TailNum='N772SW', ActualElapsedTime='128', CRSElapsedTime='145', AirTime='113', ArrDelay=2.0, DepDelay=19.0, Origin='IAD', Dest='TPA', Distance=810.0, TaxiIn=5.0, TaxiOut=10.0, Cancelled='0', CancellationCode=None, Diverted='0', CarrierDelay='NA', WeatherDelay='NA', NASDelay='NA', SecurityDelay='NA', LateAircraftDelay='NA'),\n",
       " Row(Year='2008', Month='1', DayofMonth='3', DayOfWeek=4.0, DepTime='06.00-11.59', CRSDepTime='620', ArrTime='804', CRSArrTime='750', UniqueCarrier='WN', FlightNum='448', TailNum='N428WN', ActualElapsedTime='96', CRSElapsedTime='90', AirTime='76', ArrDelay=14.0, DepDelay=8.0, Origin='IND', Dest='BWI', Distance=515.0, TaxiIn=3.0, TaxiOut=17.0, Cancelled='0', CancellationCode=None, Diverted='0', CarrierDelay='NA', WeatherDelay='NA', NASDelay='NA', SecurityDelay='NA', LateAircraftDelay='NA'),\n",
       " Row(Year='2008', Month='1', DayofMonth='3', DayOfWeek=4.0, DepTime='06.00-11.59', CRSDepTime='930', ArrTime='1054', CRSArrTime='1100', UniqueCarrier='WN', FlightNum='1746', TailNum='N612SW', ActualElapsedTime='88', CRSElapsedTime='90', AirTime='78', ArrDelay=-6.0, DepDelay=-4.0, Origin='IND', Dest='BWI', Distance=515.0, TaxiIn=3.0, TaxiOut=7.0, Cancelled='0', CancellationCode=None, Diverted='0', CarrierDelay='NA', WeatherDelay='NA', NASDelay='NA', SecurityDelay='NA', LateAircraftDelay='NA'),\n",
       " Row(Year='2008', Month='1', DayofMonth='3', DayOfWeek=4.0, DepTime='18.00-24.00', CRSDepTime='1755', ArrTime='1959', CRSArrTime='1925', UniqueCarrier='WN', FlightNum='3920', TailNum='N464WN', ActualElapsedTime='90', CRSElapsedTime='90', AirTime='77', ArrDelay=34.0, DepDelay=34.0, Origin='IND', Dest='BWI', Distance=515.0, TaxiIn=3.0, TaxiOut=10.0, Cancelled='0', CancellationCode=None, Diverted='0', CarrierDelay='2', WeatherDelay='0', NASDelay='0', SecurityDelay='0', LateAircraftDelay='32')]"
      ]
     },
     "execution_count": 13,
     "metadata": {},
     "output_type": "execute_result"
    }
   ],
   "source": [
    "airline_df2.take(5)"
   ]
  },
  {
   "cell_type": "markdown",
   "metadata": {},
   "source": [
    "## Normalization\n",
    "### Distance is a scalar value. Its range is unpredictable. We will normalize its value into 0..1."
   ]
  },
  {
   "cell_type": "code",
   "execution_count": 14,
   "metadata": {},
   "outputs": [],
   "source": [
    "from pyspark.sql.functions import *\n",
    "max_distance = airline_df2.select(max('Distance')).collect()[0][0]\n",
    "min_distance = airline_df2.select(min('Distance')).collect()[0][0]"
   ]
  },
  {
   "cell_type": "code",
   "execution_count": 15,
   "metadata": {},
   "outputs": [
    {
     "data": {
      "text/plain": [
       "(4962.0, 11.0)"
      ]
     },
     "execution_count": 15,
     "metadata": {},
     "output_type": "execute_result"
    }
   ],
   "source": [
    "max_distance,min_distance"
   ]
  },
  {
   "cell_type": "code",
   "execution_count": 16,
   "metadata": {},
   "outputs": [],
   "source": [
    "def t_normalized_distance(origin):\n",
    "    if origin is None:\n",
    "        return None\n",
    "    else:\n",
    "        return ((origin-min_distance)/(max_distance-min_distance))"
   ]
  },
  {
   "cell_type": "code",
   "execution_count": 17,
   "metadata": {},
   "outputs": [],
   "source": [
    "normalized_distance = udf(lambda x: t_normalized_distance(x),DoubleType())"
   ]
  },
  {
   "cell_type": "code",
   "execution_count": 18,
   "metadata": {},
   "outputs": [],
   "source": [
    "normalized_df = airline_df2.withColumn('Distance', normalized_distance(airline_df2['Distance']))"
   ]
  },
  {
   "cell_type": "code",
   "execution_count": 19,
   "metadata": {},
   "outputs": [
    {
     "data": {
      "text/plain": [
       "[Row(Year='2008', Month='1', DayofMonth='3', DayOfWeek=4.0, DepTime='18.00-24.00', CRSDepTime='1955', ArrTime='2211', CRSArrTime='2225', UniqueCarrier='WN', FlightNum='335', TailNum='N712SW', ActualElapsedTime='128', CRSElapsedTime='150', AirTime='116', ArrDelay=-14.0, DepDelay=8.0, Origin='IAD', Dest='TPA', Distance=0.16138153908301353, TaxiIn=4.0, TaxiOut=8.0, Cancelled='0', CancellationCode=None, Diverted='0', CarrierDelay='NA', WeatherDelay='NA', NASDelay='NA', SecurityDelay='NA', LateAircraftDelay='NA'),\n",
       " Row(Year='2008', Month='1', DayofMonth='3', DayOfWeek=4.0, DepTime='06.00-11.59', CRSDepTime='735', ArrTime='1002', CRSArrTime='1000', UniqueCarrier='WN', FlightNum='3231', TailNum='N772SW', ActualElapsedTime='128', CRSElapsedTime='145', AirTime='113', ArrDelay=2.0, DepDelay=19.0, Origin='IAD', Dest='TPA', Distance=0.16138153908301353, TaxiIn=5.0, TaxiOut=10.0, Cancelled='0', CancellationCode=None, Diverted='0', CarrierDelay='NA', WeatherDelay='NA', NASDelay='NA', SecurityDelay='NA', LateAircraftDelay='NA'),\n",
       " Row(Year='2008', Month='1', DayofMonth='3', DayOfWeek=4.0, DepTime='06.00-11.59', CRSDepTime='620', ArrTime='804', CRSArrTime='750', UniqueCarrier='WN', FlightNum='448', TailNum='N428WN', ActualElapsedTime='96', CRSElapsedTime='90', AirTime='76', ArrDelay=14.0, DepDelay=8.0, Origin='IND', Dest='BWI', Distance=0.1017976166431024, TaxiIn=3.0, TaxiOut=17.0, Cancelled='0', CancellationCode=None, Diverted='0', CarrierDelay='NA', WeatherDelay='NA', NASDelay='NA', SecurityDelay='NA', LateAircraftDelay='NA'),\n",
       " Row(Year='2008', Month='1', DayofMonth='3', DayOfWeek=4.0, DepTime='06.00-11.59', CRSDepTime='930', ArrTime='1054', CRSArrTime='1100', UniqueCarrier='WN', FlightNum='1746', TailNum='N612SW', ActualElapsedTime='88', CRSElapsedTime='90', AirTime='78', ArrDelay=-6.0, DepDelay=-4.0, Origin='IND', Dest='BWI', Distance=0.1017976166431024, TaxiIn=3.0, TaxiOut=7.0, Cancelled='0', CancellationCode=None, Diverted='0', CarrierDelay='NA', WeatherDelay='NA', NASDelay='NA', SecurityDelay='NA', LateAircraftDelay='NA'),\n",
       " Row(Year='2008', Month='1', DayofMonth='3', DayOfWeek=4.0, DepTime='18.00-24.00', CRSDepTime='1755', ArrTime='1959', CRSArrTime='1925', UniqueCarrier='WN', FlightNum='3920', TailNum='N464WN', ActualElapsedTime='90', CRSElapsedTime='90', AirTime='77', ArrDelay=34.0, DepDelay=34.0, Origin='IND', Dest='BWI', Distance=0.1017976166431024, TaxiIn=3.0, TaxiOut=10.0, Cancelled='0', CancellationCode=None, Diverted='0', CarrierDelay='2', WeatherDelay='0', NASDelay='0', SecurityDelay='0', LateAircraftDelay='32')]"
      ]
     },
     "execution_count": 19,
     "metadata": {},
     "output_type": "execute_result"
    }
   ],
   "source": [
    "normalized_df.take(5)"
   ]
  },
  {
   "cell_type": "markdown",
   "metadata": {},
   "source": [
    "### Normalize ArrDelay"
   ]
  },
  {
   "cell_type": "code",
   "execution_count": 20,
   "metadata": {},
   "outputs": [],
   "source": [
    "max_ArrDelay = airline_df2.select(max('ArrDelay')).collect()[0][0]\n",
    "min_ArrDelay = airline_df2.select(min('ArrDelay')).collect()[0][0]"
   ]
  },
  {
   "cell_type": "code",
   "execution_count": 21,
   "metadata": {},
   "outputs": [
    {
     "data": {
      "text/plain": [
       "(2461.0, -519.0)"
      ]
     },
     "execution_count": 21,
     "metadata": {},
     "output_type": "execute_result"
    }
   ],
   "source": [
    "max_ArrDelay,min_ArrDelay"
   ]
  },
  {
   "cell_type": "code",
   "execution_count": 22,
   "metadata": {},
   "outputs": [],
   "source": [
    "def t_normalized_ArrDelay(origin):\n",
    "    if origin is None:\n",
    "        return None\n",
    "    else:\n",
    "        return ((origin-min_ArrDelay)/(max_ArrDelay-min_ArrDelay))"
   ]
  },
  {
   "cell_type": "code",
   "execution_count": 23,
   "metadata": {},
   "outputs": [],
   "source": [
    "normalized_ArrDelay = udf(lambda x: t_normalized_ArrDelay(x),DoubleType())"
   ]
  },
  {
   "cell_type": "code",
   "execution_count": 24,
   "metadata": {},
   "outputs": [],
   "source": [
    "normalized_df = normalized_df.withColumn('ArrDelay', normalized_ArrDelay(normalized_df['ArrDelay']))"
   ]
  },
  {
   "cell_type": "code",
   "execution_count": 25,
   "metadata": {},
   "outputs": [
    {
     "data": {
      "text/plain": [
       "[Row(Year='2008', Month='1', DayofMonth='3', DayOfWeek=4.0, DepTime='18.00-24.00', CRSDepTime='1955', ArrTime='2211', CRSArrTime='2225', UniqueCarrier='WN', FlightNum='335', TailNum='N712SW', ActualElapsedTime='128', CRSElapsedTime='150', AirTime='116', ArrDelay=0.16946308724832215, DepDelay=8.0, Origin='IAD', Dest='TPA', Distance=0.16138153908301353, TaxiIn=4.0, TaxiOut=8.0, Cancelled='0', CancellationCode=None, Diverted='0', CarrierDelay='NA', WeatherDelay='NA', NASDelay='NA', SecurityDelay='NA', LateAircraftDelay='NA'),\n",
       " Row(Year='2008', Month='1', DayofMonth='3', DayOfWeek=4.0, DepTime='06.00-11.59', CRSDepTime='735', ArrTime='1002', CRSArrTime='1000', UniqueCarrier='WN', FlightNum='3231', TailNum='N772SW', ActualElapsedTime='128', CRSElapsedTime='145', AirTime='113', ArrDelay=0.17483221476510066, DepDelay=19.0, Origin='IAD', Dest='TPA', Distance=0.16138153908301353, TaxiIn=5.0, TaxiOut=10.0, Cancelled='0', CancellationCode=None, Diverted='0', CarrierDelay='NA', WeatherDelay='NA', NASDelay='NA', SecurityDelay='NA', LateAircraftDelay='NA'),\n",
       " Row(Year='2008', Month='1', DayofMonth='3', DayOfWeek=4.0, DepTime='06.00-11.59', CRSDepTime='620', ArrTime='804', CRSArrTime='750', UniqueCarrier='WN', FlightNum='448', TailNum='N428WN', ActualElapsedTime='96', CRSElapsedTime='90', AirTime='76', ArrDelay=0.17885906040268457, DepDelay=8.0, Origin='IND', Dest='BWI', Distance=0.1017976166431024, TaxiIn=3.0, TaxiOut=17.0, Cancelled='0', CancellationCode=None, Diverted='0', CarrierDelay='NA', WeatherDelay='NA', NASDelay='NA', SecurityDelay='NA', LateAircraftDelay='NA'),\n",
       " Row(Year='2008', Month='1', DayofMonth='3', DayOfWeek=4.0, DepTime='06.00-11.59', CRSDepTime='930', ArrTime='1054', CRSArrTime='1100', UniqueCarrier='WN', FlightNum='1746', TailNum='N612SW', ActualElapsedTime='88', CRSElapsedTime='90', AirTime='78', ArrDelay=0.17214765100671142, DepDelay=-4.0, Origin='IND', Dest='BWI', Distance=0.1017976166431024, TaxiIn=3.0, TaxiOut=7.0, Cancelled='0', CancellationCode=None, Diverted='0', CarrierDelay='NA', WeatherDelay='NA', NASDelay='NA', SecurityDelay='NA', LateAircraftDelay='NA'),\n",
       " Row(Year='2008', Month='1', DayofMonth='3', DayOfWeek=4.0, DepTime='18.00-24.00', CRSDepTime='1755', ArrTime='1959', CRSArrTime='1925', UniqueCarrier='WN', FlightNum='3920', TailNum='N464WN', ActualElapsedTime='90', CRSElapsedTime='90', AirTime='77', ArrDelay=0.1855704697986577, DepDelay=34.0, Origin='IND', Dest='BWI', Distance=0.1017976166431024, TaxiIn=3.0, TaxiOut=10.0, Cancelled='0', CancellationCode=None, Diverted='0', CarrierDelay='2', WeatherDelay='0', NASDelay='0', SecurityDelay='0', LateAircraftDelay='32')]"
      ]
     },
     "execution_count": 25,
     "metadata": {},
     "output_type": "execute_result"
    }
   ],
   "source": [
    "normalized_df.take(5)"
   ]
  },
  {
   "cell_type": "markdown",
   "metadata": {},
   "source": [
    "## Choose only intereesting fields"
   ]
  },
  {
   "cell_type": "code",
   "execution_count": 26,
   "metadata": {},
   "outputs": [],
   "source": [
    "features_df = normalized_df.select(['UniqueCarrier','Origin','Dest',\\\n",
    "        'DepTime','TaxiOut','TaxiIn','DepDelay',\\\n",
    "        'DayOfWeek','Distance','ArrDelay'])"
   ]
  },
  {
   "cell_type": "markdown",
   "metadata": {},
   "source": [
    "## Get rid of records with null"
   ]
  },
  {
   "cell_type": "code",
   "execution_count": 27,
   "metadata": {},
   "outputs": [],
   "source": [
    "final_df = features_df.dropna()"
   ]
  },
  {
   "cell_type": "code",
   "execution_count": 28,
   "metadata": {},
   "outputs": [
    {
     "data": {
      "text/plain": [
       "6855029"
      ]
     },
     "execution_count": 28,
     "metadata": {},
     "output_type": "execute_result"
    }
   ],
   "source": [
    "final_df.count()"
   ]
  },
  {
   "cell_type": "code",
   "execution_count": 29,
   "metadata": {},
   "outputs": [
    {
     "name": "stdout",
     "output_type": "stream",
     "text": [
      "+-------------+------+----+-----------+-------+------+--------+---------+--------------------+-------------------+\n",
      "|UniqueCarrier|Origin|Dest|    DepTime|TaxiOut|TaxiIn|DepDelay|DayOfWeek|            Distance|           ArrDelay|\n",
      "+-------------+------+----+-----------+-------+------+--------+---------+--------------------+-------------------+\n",
      "|           WN|   IAD| TPA|18.00-24.00|    8.0|   4.0|     8.0|      4.0| 0.16138153908301353|0.16946308724832215|\n",
      "|           WN|   IAD| TPA|06.00-11.59|   10.0|   5.0|    19.0|      4.0| 0.16138153908301353|0.17483221476510066|\n",
      "|           WN|   IND| BWI|06.00-11.59|   17.0|   3.0|     8.0|      4.0|  0.1017976166431024|0.17885906040268457|\n",
      "|           WN|   IND| BWI|06.00-11.59|    7.0|   3.0|    -4.0|      4.0|  0.1017976166431024|0.17214765100671142|\n",
      "|           WN|   IND| BWI|18.00-24.00|   10.0|   3.0|    34.0|      4.0|  0.1017976166431024| 0.1855704697986577|\n",
      "|           WN|   IND| JAX|18.00-24.00|   10.0|   4.0|    25.0|      4.0|  0.1367400525146435|0.17785234899328858|\n",
      "|           WN|   IND| LAS|18.00-24.00|    7.0|   3.0|    67.0|      4.0| 0.31912744900020196|0.19328859060402684|\n",
      "|           WN|   IND| LAS|06.00-11.59|    7.0|   7.0|    -1.0|      4.0| 0.31912744900020196|0.16812080536912752|\n",
      "|           WN|   IND| MCI|06.00-11.59|   19.0|   6.0|     2.0|      4.0| 0.08887093516461321|0.17483221476510066|\n",
      "|           WN|   IND| MCI|12.00-17.59|    6.0|   3.0|     0.0|      4.0| 0.08887093516461321|0.16879194630872482|\n",
      "|           WN|   IND| MCO|06.00-11.59|   19.0|   5.0|     6.0|      4.0|  0.1650171682488386|  0.174496644295302|\n",
      "|           WN|   IND| MCO|12.00-17.59|    8.0|   6.0|    94.0|      4.0|  0.1650171682488386|0.20100671140939597|\n",
      "|           WN|   IND| MDW|12.00-17.59|   12.0|   9.0|    -4.0|      4.0|0.030498889113310442|  0.174496644295302|\n",
      "|           WN|   IND| MDW|06.00-11.59|   21.0|   7.0|     0.0|      4.0|0.030498889113310442|0.17751677852348993|\n",
      "|           WN|   IND| MDW|12.00-17.59|   10.0|   4.0|     2.0|      4.0|0.030498889113310442|0.17281879194630873|\n",
      "|           WN|   IND| MDW|06.00-11.59|    9.0|   6.0|     9.0|      4.0|0.030498889113310442|0.17785234899328858|\n",
      "|           WN|   IND| PHX|12.00-17.59|    8.0|   7.0|    27.0|      4.0|  0.2985255503938598|0.17919463087248322|\n",
      "|           WN|   IND| PHX|06.00-11.59|   16.0|   5.0|     9.0|      4.0|  0.2985255503938598| 0.1691275167785235|\n",
      "|           WN|   IND| TPA|12.00-17.59|    9.0|   4.0|    28.0|      4.0| 0.16703696222985256|0.17953020134228187|\n",
      "|           WN|   ISP| BWI|12.00-17.59|    5.0|   2.0|    51.0|      4.0| 0.04221369420319127| 0.1865771812080537|\n",
      "+-------------+------+----+-----------+-------+------+--------+---------+--------------------+-------------------+\n",
      "only showing top 20 rows\n",
      "\n"
     ]
    }
   ],
   "source": [
    "final_df.show()"
   ]
  },
  {
   "cell_type": "markdown",
   "metadata": {},
   "source": [
    "## Divide dataset into training and test sets"
   ]
  },
  {
   "cell_type": "code",
   "execution_count": 30,
   "metadata": {},
   "outputs": [],
   "source": [
    "training_df,test_df = final_df.randomSplit([0.8,0.2],seed=12)"
   ]
  },
  {
   "cell_type": "code",
   "execution_count": 31,
   "metadata": {},
   "outputs": [
    {
     "data": {
      "text/plain": [
       "5484163"
      ]
     },
     "execution_count": 31,
     "metadata": {},
     "output_type": "execute_result"
    }
   ],
   "source": [
    "training_df.count()"
   ]
  },
  {
   "cell_type": "markdown",
   "metadata": {},
   "source": [
    "## Display schema of the data frame"
   ]
  },
  {
   "cell_type": "code",
   "execution_count": 32,
   "metadata": {},
   "outputs": [
    {
     "data": {
      "text/plain": [
       "pyspark.sql.dataframe.DataFrame"
      ]
     },
     "execution_count": 32,
     "metadata": {},
     "output_type": "execute_result"
    }
   ],
   "source": [
    "type(training_df)"
   ]
  },
  {
   "cell_type": "code",
   "execution_count": 33,
   "metadata": {},
   "outputs": [
    {
     "name": "stdout",
     "output_type": "stream",
     "text": [
      "root\n",
      " |-- UniqueCarrier: string (nullable = true)\n",
      " |-- Origin: string (nullable = true)\n",
      " |-- Dest: string (nullable = true)\n",
      " |-- DepTime: string (nullable = true)\n",
      " |-- TaxiOut: double (nullable = true)\n",
      " |-- TaxiIn: double (nullable = true)\n",
      " |-- DepDelay: double (nullable = true)\n",
      " |-- DayOfWeek: double (nullable = true)\n",
      " |-- Distance: double (nullable = true)\n",
      " |-- ArrDelay: double (nullable = true)\n",
      "\n"
     ]
    }
   ],
   "source": [
    "training_df.printSchema()"
   ]
  },
  {
   "cell_type": "markdown",
   "metadata": {},
   "source": [
    "## Transformation categorical to numerical "
   ]
  },
  {
   "cell_type": "code",
   "execution_count": 34,
   "metadata": {},
   "outputs": [],
   "source": [
    "from pyspark.ml.feature import StringIndexer, OneHotEncoder"
   ]
  },
  {
   "cell_type": "code",
   "execution_count": 35,
   "metadata": {},
   "outputs": [],
   "source": [
    "DepTimeIndexer = StringIndexer\\\n",
    "(inputCol='DepTime', outputCol='DepTimeIndexed')"
   ]
  },
  {
   "cell_type": "code",
   "execution_count": 36,
   "metadata": {},
   "outputs": [],
   "source": [
    "DepTimeOneHotEncoder = OneHotEncoder\\\n",
    "(dropLast=False,inputCol='DepTimeIndexed',\\\n",
    "outputCol='DepTimeVec')"
   ]
  },
  {
   "cell_type": "code",
   "execution_count": 37,
   "metadata": {},
   "outputs": [],
   "source": [
    "UniqueCarrierIndexer = StringIndexer\\\n",
    "(inputCol='UniqueCarrier', outputCol='UniqueCarrierIndexed')"
   ]
  },
  {
   "cell_type": "code",
   "execution_count": 38,
   "metadata": {},
   "outputs": [],
   "source": [
    "UniqueCarrierOneHotEncoder = OneHotEncoder\\\n",
    "(dropLast=False, inputCol='UniqueCarrierIndexed', outputCol='UniqueCarrierVec')"
   ]
  },
  {
   "cell_type": "code",
   "execution_count": 39,
   "metadata": {},
   "outputs": [],
   "source": [
    "OriginIndexer = StringIndexer(inputCol='Origin', outputCol='OriginIndexed')"
   ]
  },
  {
   "cell_type": "code",
   "execution_count": 40,
   "metadata": {},
   "outputs": [],
   "source": [
    "OriginOneHotEncoder = OneHotEncoder(dropLast=False, inputCol='OriginIndexed', outputCol='OriginVec')"
   ]
  },
  {
   "cell_type": "code",
   "execution_count": 41,
   "metadata": {},
   "outputs": [],
   "source": [
    "DestIndexer = StringIndexer(inputCol='Dest', outputCol='DestIndexed')"
   ]
  },
  {
   "cell_type": "code",
   "execution_count": 42,
   "metadata": {},
   "outputs": [],
   "source": [
    "DestOneHotEncoder = OneHotEncoder(dropLast=False, inputCol='DestIndexed', outputCol='DestVec')"
   ]
  },
  {
   "cell_type": "markdown",
   "metadata": {},
   "source": [
    "## Combines selected columns into a single vector column"
   ]
  },
  {
   "cell_type": "code",
   "execution_count": 43,
   "metadata": {},
   "outputs": [],
   "source": [
    "from pyspark.mllib.linalg import Vectors\n",
    "from pyspark.ml.feature import VectorAssembler\n",
    "from pyspark.ml import Pipeline"
   ]
  },
  {
   "cell_type": "code",
   "execution_count": 44,
   "metadata": {},
   "outputs": [],
   "source": [
    "featureAssembler = VectorAssembler\\\n",
    "(inputCols=['UniqueCarrierIndexed',\\\n",
    "           'OriginVec',\\\n",
    "           #'DestVec',\\\n",
    "           'DepTimeVec',\\\n",
    "           'TaxiOut',\\\n",
    "           'TaxiIn',\\\n",
    "           'DepDelay',\\\n",
    "           'DayOfWeek',\\\n",
    "           'Distance'], outputCol='***features')"
   ]
  },
  {
   "cell_type": "markdown",
   "metadata": {},
   "source": [
    "## Define an algorithm"
   ]
  },
  {
   "cell_type": "code",
   "execution_count": 45,
   "metadata": {},
   "outputs": [],
   "source": [
    "from pyspark.ml.regression import RandomForestRegressor"
   ]
  },
  {
   "cell_type": "code",
   "execution_count": 46,
   "metadata": {},
   "outputs": [],
   "source": [
    "dt = RandomForestRegressor(labelCol='ArrDelay', featuresCol='***features')"
   ]
  },
  {
   "cell_type": "markdown",
   "metadata": {},
   "source": [
    "## Pipeline"
   ]
  },
  {
   "cell_type": "code",
   "execution_count": 47,
   "metadata": {},
   "outputs": [],
   "source": [
    "pipeline_dt = Pipeline().\\\n",
    "setStages([UniqueCarrierIndexer, UniqueCarrierOneHotEncoder, DepTimeIndexer, DepTimeOneHotEncoder,\\\n",
    "          OriginIndexer,OriginOneHotEncoder, DestIndexer, DestOneHotEncoder, featureAssembler, dt])"
   ]
  },
  {
   "cell_type": "markdown",
   "metadata": {},
   "source": [
    "## Launch pipeline and get model"
   ]
  },
  {
   "cell_type": "code",
   "execution_count": 48,
   "metadata": {},
   "outputs": [],
   "source": [
    "dtModel = pipeline_dt.fit(training_df)"
   ]
  },
  {
   "cell_type": "markdown",
   "metadata": {},
   "source": [
    "## Print out model structure"
   ]
  },
  {
   "cell_type": "code",
   "execution_count": 50,
   "metadata": {},
   "outputs": [],
   "source": [
    "tree = dtModel.stages[9]"
   ]
  },
  {
   "cell_type": "code",
   "execution_count": 51,
   "metadata": {},
   "outputs": [
    {
     "data": {
      "text/plain": [
       "'RandomForestRegressionModel (uid=RandomForestRegressor_4d36ab0b2755ec0956cd) with 20 trees\\n  Tree 0 (weight 1.0):\\n    If (feature 310 <= 58.5)\\n     If (feature 0 in {0.0,2.0,4.0,12.0,14.0,16.0,18.0,19.0})\\n      If (feature 310 <= 14.5)\\n       If (feature 41 in {0.0})\\n        If (feature 309 <= 17.5)\\n         Predict: 0.17243384400194783\\n        Else (feature 309 > 17.5)\\n         Predict: 0.17647507994776762\\n       Else (feature 41 not in {0.0})\\n        If (feature 310 <= 3.5)\\n         Predict: 0.17296886082800608\\n        Else (feature 310 > 3.5)\\n         Predict: 0.17595276627477113\\n      Else (feature 310 > 14.5)\\n       If (feature 0 in {0.0,19.0})\\n        If (feature 312 <= 0.0986669359725308)\\n         Predict: 0.1832960042270056\\n        Else (feature 312 > 0.0986669359725308)\\n         Predict: 0.1818415007077769\\n       Else (feature 0 not in {0.0,19.0})\\n        If (feature 309 <= 16.5)\\n         Predict: 0.18396214261185873\\n        Else (feature 309 > 16.5)\\n         Predict: 0.19029569108063413\\n     Else (feature 0 not in {0.0,2.0,4.0,12.0,14.0,16.0,18.0,19.0})\\n      If (feature 308 <= 35.5)\\n       If (feature 306 in {0.0})\\n        If (feature 304 in {1.0})\\n         Predict: 0.17362881598151178\\n        Else (feature 304 not in {1.0})\\n         Predict: 0.17433990210120742\\n       Else (feature 306 not in {0.0})\\n        If (feature 3 in {0.0})\\n         Predict: 0.17510279225430683\\n        Else (feature 3 not in {0.0})\\n         Predict: 0.17620174381919357\\n      Else (feature 308 > 35.5)\\n       If (feature 309 <= 14.5)\\n        If (feature 310 <= 14.5)\\n         Predict: 0.181885381145661\\n        Else (feature 310 > 14.5)\\n         Predict: 0.19468042862866344\\n       Else (feature 309 > 14.5)\\n        If (feature 310 <= 15.5)\\n         Predict: 0.18743452043356335\\n        Else (feature 310 > 15.5)\\n         Predict: 0.2017618058906387\\n    Else (feature 310 > 58.5)\\n     If (feature 307 in {0.0})\\n      If (feature 310 <= 96.5)\\n       If (feature 16 in {0.0})\\n        If (feature 6 in {1.0})\\n         Predict: 0.19758840604799704\\n        Else (feature 6 not in {1.0})\\n         Predict: 0.19937295479643413\\n       Else (feature 16 not in {0.0})\\n        If (feature 304 in {1.0})\\n         Predict: 0.1996756902842214\\n        Else (feature 304 not in {1.0})\\n         Predict: 0.20088134899111032\\n      Else (feature 310 > 96.5)\\n       If (feature 0 in {0.0,2.0,4.0,6.0,17.0})\\n        If (feature 308 <= 35.5)\\n         Predict: 0.2233445476066686\\n        Else (feature 308 > 35.5)\\n         Predict: 0.23905604706958306\\n       Else (feature 0 not in {0.0,2.0,4.0,6.0,17.0})\\n        If (feature 308 <= 41.5)\\n         Predict: 0.2276881685958247\\n        Else (feature 308 > 41.5)\\n         Predict: 0.24257122854698743\\n     Else (feature 307 not in {0.0})\\n      If (feature 173 in {0.0})\\n       If (feature 8 in {1.0})\\n        If (feature 0 in {4.0,5.0,6.0,8.0,11.0,13.0,14.0,18.0})\\n         Predict: 0.20790987535953978\\n        Else (feature 0 not in {4.0,5.0,6.0,8.0,11.0,13.0,14.0,18.0})\\n         Predict: 0.24071129937286836\\n       Else (feature 8 not in {1.0})\\n        If (feature 5 in {1.0})\\n         Predict: 0.21769555658412407\\n        Else (feature 5 not in {1.0})\\n         Predict: 0.23918321928509578\\n      Else (feature 173 not in {0.0})\\n       Predict: 0.5479865771811395\\n  Tree 1 (weight 1.0):\\n    If (feature 6 in {1.0})\\n     If (feature 305 in {0.0})\\n      If (feature 310 <= 58.5)\\n       If (feature 308 <= 28.5)\\n        If (feature 312 <= 0.13320541304786912)\\n         Predict: 0.17398779812549783\\n        Else (feature 312 > 0.13320541304786912)\\n         Predict: 0.17259728819544834\\n       Else (feature 308 > 28.5)\\n        If (feature 311 <= 3.5)\\n         Predict: 0.17838225189647636\\n        Else (feature 311 > 3.5)\\n         Predict: 0.17900091819478942\\n      Else (feature 310 > 58.5)\\n       If (feature 304 in {1.0})\\n        If (feature 310 <= 96.5)\\n         Predict: 0.19704756220064354\\n        Else (feature 310 > 96.5)\\n         Predict: 0.21858618103498012\\n       Else (feature 304 not in {1.0})\\n        If (feature 310 <= 96.5)\\n         Predict: 0.19808780760626396\\n        Else (feature 310 > 96.5)\\n         Predict: 0.22615560691586303\\n     Else (feature 305 not in {0.0})\\n      If (feature 0 in {0.0,1.0,2.0,4.0,5.0,7.0,8.0,11.0,13.0,17.0})\\n       If (feature 309 <= 13.5)\\n        If (feature 310 <= 39.5)\\n         Predict: 0.17371974807535176\\n        Else (feature 310 > 39.5)\\n         Predict: 0.1990306272739575\\n       Else (feature 309 > 13.5)\\n        If (feature 310 <= 58.5)\\n         Predict: 0.1778880479794374\\n        Else (feature 310 > 58.5)\\n         Predict: 0.2111920378279441\\n      Else (feature 0 not in {0.0,1.0,2.0,4.0,5.0,7.0,8.0,11.0,13.0,17.0})\\n       If (feature 310 <= 58.5)\\n        If (feature 312 <= 0.3567966067461119)\\n         Predict: 0.1751497254423429\\n        Else (feature 312 > 0.3567966067461119)\\n         Predict: 0.1770908299720497\\n       Else (feature 310 > 58.5)\\n        If (feature 0 in {6.0,9.0,14.0,16.0})\\n         Predict: 0.21453041372865517\\n        Else (feature 0 not in {6.0,9.0,14.0,16.0})\\n         Predict: 0.2963087248322154\\n    Else (feature 6 not in {1.0})\\n     If (feature 310 <= 58.5)\\n      If (feature 306 in {0.0})\\n       If (feature 310 <= 13.5)\\n        If (feature 1 in {0.0})\\n         Predict: 0.17283587079870907\\n        Else (feature 1 not in {0.0})\\n         Predict: 0.1735058884901863\\n       Else (feature 310 > 13.5)\\n        If (feature 310 <= 27.5)\\n         Predict: 0.18035357111434946\\n        Else (feature 310 > 27.5)\\n         Predict: 0.18757266703047384\\n      Else (feature 306 not in {0.0})\\n       If (feature 0 in {2.0,4.0,12.0,14.0,16.0,18.0,19.0})\\n        If (feature 310 <= 14.5)\\n         Predict: 0.1724002678100942\\n        Else (feature 310 > 14.5)\\n         Predict: 0.18450108486372863\\n       Else (feature 0 not in {2.0,4.0,12.0,14.0,16.0,18.0,19.0})\\n        If (feature 0 in {0.0,5.0,6.0,7.0,10.0,13.0})\\n         Predict: 0.1754853878588745\\n        Else (feature 0 not in {0.0,5.0,6.0,7.0,10.0,13.0})\\n         Predict: 0.17628764038246697\\n     Else (feature 310 > 58.5)\\n      If (feature 308 <= 41.5)\\n       If (feature 309 <= 11.5)\\n        If (feature 310 <= 96.5)\\n         Predict: 0.19787257679288653\\n        Else (feature 310 > 96.5)\\n         Predict: 0.22626783934728384\\n       Else (feature 309 > 11.5)\\n        If (feature 310 <= 96.5)\\n         Predict: 0.20183051681319045\\n        Else (feature 310 > 96.5)\\n         Predict: 0.23337756807234838\\n      Else (feature 308 > 41.5)\\n       If (feature 234 in {0.0})\\n        If (feature 310 <= 96.5)\\n         Predict: 0.21301687536451408\\n        Else (feature 310 > 96.5)\\n         Predict: 0.24330040818156465\\n       Else (feature 234 not in {0.0})\\n        Predict: 0.3293624161074149\\n  Tree 2 (weight 1.0):\\n    If (feature 308 <= 35.5)\\n     If (feature 310 <= 58.5)\\n      If (feature 308 <= 18.5)\\n       If (feature 0 in {4.0,12.0,14.0})\\n        If (feature 21 in {1.0})\\n         Predict: 0.17000900542221195\\n        Else (feature 21 not in {1.0})\\n         Predict: 0.17194019051456666\\n       Else (feature 0 not in {4.0,12.0,14.0})\\n        If (feature 310 <= 14.5)\\n         Predict: 0.17209151921611773\\n        Else (feature 310 > 14.5)\\n         Predict: 0.18238051555925267\\n      Else (feature 308 > 18.5)\\n       If (feature 16 in {1.0})\\n        If (feature 310 <= 13.5)\\n         Predict: 0.17069643041461788\\n        Else (feature 310 > 13.5)\\n         Predict: 0.18054459399080838\\n       Else (feature 16 not in {1.0})\\n        If (feature 0 in {2.0,4.0,5.0,6.0,7.0,8.0,9.0,10.0,12.0,13.0,14.0,15.0,16.0,19.0})\\n         Predict: 0.17606399235373787\\n        Else (feature 0 not in {2.0,4.0,5.0,6.0,7.0,8.0,9.0,10.0,12.0,13.0,14.0,15.0,16.0,19.0})\\n         Predict: 0.1777121086285539\\n     Else (feature 310 > 58.5)\\n      If (feature 307 in {0.0})\\n       If (feature 309 <= 11.5)\\n        If (feature 308 <= 18.5)\\n         Predict: 0.20899685462799059\\n        Else (feature 308 > 18.5)\\n         Predict: 0.21345454330494557\\n       Else (feature 309 > 11.5)\\n        If (feature 309 <= 32.5)\\n         Predict: 0.21679911496284063\\n        Else (feature 309 > 32.5)\\n         Predict: 0.2326564590289255\\n      Else (feature 307 not in {0.0})\\n       If (feature 8 in {1.0})\\n        If (feature 0 in {4.0,5.0,6.0,8.0,9.0,11.0,13.0,14.0,18.0})\\n         Predict: 0.20691071064100564\\n        Else (feature 0 not in {4.0,5.0,6.0,8.0,9.0,11.0,13.0,14.0,18.0})\\n         Predict: 0.24342219736515036\\n       Else (feature 8 not in {1.0})\\n        If (feature 5 in {1.0})\\n         Predict: 0.2158751949020406\\n        Else (feature 5 not in {1.0})\\n         Predict: 0.23798459817587342\\n    Else (feature 308 > 35.5)\\n     If (feature 0 in {4.0,5.0,8.0,9.0,10.0,12.0,13.0,14.0,15.0,16.0,17.0,19.0})\\n      If (feature 310 <= 58.5)\\n       If (feature 18 in {1.0})\\n        If (feature 310 <= 13.5)\\n         Predict: 0.17816023544923834\\n        Else (feature 310 > 13.5)\\n         Predict: 0.1902558565340546\\n       Else (feature 18 not in {1.0})\\n        If (feature 12 in {1.0})\\n         Predict: 0.18181354182435952\\n        Else (feature 12 not in {1.0})\\n         Predict: 0.18472071178104774\\n      Else (feature 310 > 58.5)\\n       If (feature 310 <= 96.5)\\n        If (feature 16 in {1.0})\\n         Predict: 0.20624122054003433\\n        Else (feature 16 not in {1.0})\\n         Predict: 0.2097143430711884\\n       Else (feature 310 > 96.5)\\n        If (feature 307 in {0.0})\\n         Predict: 0.23839131736203023\\n        Else (feature 307 not in {0.0})\\n         Predict: 0.2584578728075642\\n     Else (feature 0 not in {4.0,5.0,8.0,9.0,10.0,12.0,13.0,14.0,15.0,16.0,17.0,19.0})\\n      If (feature 309 <= 15.5)\\n       If (feature 304 in {1.0})\\n        If (feature 308 <= 41.5)\\n         Predict: 0.18230197642737145\\n        Else (feature 308 > 41.5)\\n         Predict: 0.1909448061999199\\n       Else (feature 304 not in {1.0})\\n        If (feature 2 in {0.0})\\n         Predict: 0.19622718113705317\\n        Else (feature 2 not in {0.0})\\n         Predict: 0.20131758365598781\\n      Else (feature 309 > 15.5)\\n       If (feature 310 <= 96.5)\\n        If (feature 310 <= 27.5)\\n         Predict: 0.1917121976487545\\n        Else (feature 310 > 27.5)\\n         Predict: 0.2132112909000147\\n       Else (feature 310 > 96.5)\\n        If (feature 191 in {0.0})\\n         Predict: 0.2569057744700644\\n        Else (feature 191 not in {0.0})\\n         Predict: 0.531543624161074\\n  Tree 3 (weight 1.0):\\n    If (feature 308 <= 32.5)\\n     If (feature 309 <= 19.5)\\n      If (feature 306 in {0.0})\\n       If (feature 309 <= 9.5)\\n        If (feature 308 <= 17.5)\\n         Predict: 0.1739823992422428\\n        Else (feature 308 > 17.5)\\n         Predict: 0.17708636422571838\\n       Else (feature 309 > 9.5)\\n        If (feature 308 <= 19.5)\\n         Predict: 0.17556642837702255\\n        Else (feature 308 > 19.5)\\n         Predict: 0.17961937548393933\\n      Else (feature 306 not in {0.0})\\n       If (feature 310 <= 58.5)\\n        If (feature 310 <= 15.5)\\n         Predict: 0.17241099452251124\\n        Else (feature 310 > 15.5)\\n         Predict: 0.18346226469477106\\n       Else (feature 310 > 58.5)\\n        If (feature 309 <= 6.5)\\n         Predict: 0.21073883174319688\\n        Else (feature 309 > 6.5)\\n         Predict: 0.2144688939661683\\n     Else (feature 309 > 19.5)\\n      If (feature 304 in {1.0})\\n       If (feature 309 <= 32.5)\\n        If (feature 310 <= 58.5)\\n         Predict: 0.1767509665702684\\n        Else (feature 310 > 58.5)\\n         Predict: 0.21796271585299376\\n       Else (feature 309 > 32.5)\\n        If (feature 310 <= 39.5)\\n         Predict: 0.1824025599337033\\n        Else (feature 310 > 39.5)\\n         Predict: 0.21605352556135518\\n      Else (feature 304 not in {1.0})\\n       If (feature 310 <= 58.5)\\n        If (feature 309 <= 32.5)\\n         Predict: 0.1779121791362635\\n        Else (feature 309 > 32.5)\\n         Predict: 0.18491963611620665\\n       Else (feature 310 > 58.5)\\n        If (feature 309 <= 32.5)\\n         Predict: 0.22033224523748676\\n        Else (feature 309 > 32.5)\\n         Predict: 0.2327902474114775\\n    Else (feature 308 > 32.5)\\n     If (feature 308 <= 41.5)\\n      If (feature 306 in {0.0})\\n       If (feature 309 <= 13.5)\\n        If (feature 304 in {1.0})\\n         Predict: 0.1801838900384082\\n        Else (feature 304 not in {1.0})\\n         Predict: 0.18468851658944652\\n       Else (feature 309 > 13.5)\\n        If (feature 310 <= 96.5)\\n         Predict: 0.1848333966485163\\n        Else (feature 310 > 96.5)\\n         Predict: 0.24250964982439066\\n      Else (feature 306 not in {0.0})\\n       If (feature 310 <= 58.5)\\n        If (feature 16 in {1.0})\\n         Predict: 0.17283819390694982\\n        Else (feature 16 not in {1.0})\\n         Predict: 0.1807557787115783\\n       Else (feature 310 > 58.5)\\n        If (feature 0 in {3.0,4.0,7.0,8.0,9.0,14.0,15.0,16.0})\\n         Predict: 0.21604022256116684\\n        Else (feature 0 not in {3.0,4.0,7.0,8.0,9.0,14.0,15.0,16.0})\\n         Predict: 0.2218012994591367\\n     Else (feature 308 > 41.5)\\n      If (feature 310 <= 58.5)\\n       If (feature 0 in {4.0,5.0,7.0,9.0,12.0,13.0,14.0,15.0})\\n        If (feature 310 <= 15.5)\\n         Predict: 0.18346932210421354\\n        Else (feature 310 > 15.5)\\n         Predict: 0.19628244521711022\\n       Else (feature 0 not in {4.0,5.0,7.0,9.0,12.0,13.0,14.0,15.0})\\n        If (feature 310 <= 15.5)\\n         Predict: 0.18670106930540206\\n        Else (feature 310 > 15.5)\\n         Predict: 0.19991943465241974\\n      Else (feature 310 > 58.5)\\n       If (feature 312 <= 0.12512623712381338)\\n        If (feature 310 <= 96.5)\\n         Predict: 0.21343016948926016\\n        Else (feature 310 > 96.5)\\n         Predict: 0.24446204940150817\\n       Else (feature 312 > 0.12512623712381338)\\n        If (feature 310 <= 96.5)\\n         Predict: 0.21209410963926942\\n        Else (feature 310 > 96.5)\\n         Predict: 0.2414901935231641\\n  Tree 4 (weight 1.0):\\n    If (feature 310 <= 58.5)\\n     If (feature 310 <= 14.5)\\n      If (feature 310 <= -0.5)\\n       If (feature 308 <= 29.5)\\n        If (feature 308 <= 16.5)\\n         Predict: 0.17089225933037003\\n        Else (feature 308 > 16.5)\\n         Predict: 0.17291213739963118\\n       Else (feature 308 > 29.5)\\n        If (feature 16 in {1.0})\\n         Predict: 0.17529346479697336\\n        Else (feature 16 not in {1.0})\\n         Predict: 0.17865314335438726\\n      Else (feature 310 > -0.5)\\n       If (feature 310 <= 5.5)\\n        If (feature 308 <= 41.5)\\n         Predict: 0.17367751153236555\\n        Else (feature 308 > 41.5)\\n         Predict: 0.18573535070713612\\n       Else (feature 310 > 5.5)\\n        If (feature 309 <= 12.5)\\n         Predict: 0.17649373925495834\\n        Else (feature 309 > 12.5)\\n         Predict: 0.17990200716838756\\n     Else (feature 310 > 14.5)\\n      If (feature 309 <= 14.5)\\n       If (feature 309 <= 6.5)\\n        If (feature 310 <= 27.5)\\n         Predict: 0.17986717195874766\\n        Else (feature 310 > 27.5)\\n         Predict: 0.18670141401669202\\n       Else (feature 309 > 6.5)\\n        If (feature 0 in {0.0,5.0,6.0,9.0,10.0,12.0,16.0,17.0,19.0})\\n         Predict: 0.18406926032664844\\n        Else (feature 0 not in {0.0,5.0,6.0,9.0,10.0,12.0,16.0,17.0,19.0})\\n         Predict: 0.18527891311200448\\n      Else (feature 309 > 14.5)\\n       If (feature 308 <= 41.5)\\n        If (feature 309 <= 32.5)\\n         Predict: 0.1869584107375177\\n        Else (feature 309 > 32.5)\\n         Predict: 0.19586570619487917\\n       Else (feature 308 > 41.5)\\n        If (feature 16 in {1.0})\\n         Predict: 0.19905727448526905\\n        Else (feature 16 not in {1.0})\\n         Predict: 0.20451050612205623\\n    Else (feature 310 > 58.5)\\n     If (feature 234 in {0.0})\\n      If (feature 309 <= 13.5)\\n       If (feature 308 <= 41.5)\\n        If (feature 307 in {0.0})\\n         Predict: 0.21086743556492918\\n        Else (feature 307 not in {0.0})\\n         Predict: 0.23508398498321176\\n       Else (feature 308 > 41.5)\\n        If (feature 24 in {0.0})\\n         Predict: 0.22724644796225843\\n        Else (feature 24 not in {0.0})\\n         Predict: 0.23889552142488285\\n      Else (feature 309 > 13.5)\\n       If (feature 308 <= 41.5)\\n        If (feature 311 <= 6.5)\\n         Predict: 0.21947109700038603\\n        Else (feature 311 > 6.5)\\n         Predict: 0.22338459268934732\\n       Else (feature 308 > 41.5)\\n        If (feature 65 in {0.0})\\n         Predict: 0.23807749970330283\\n        Else (feature 65 not in {0.0})\\n         Predict: 0.3183273102736166\\n     Else (feature 234 not in {0.0})\\n      If (feature 311 <= 6.5)\\n       If (feature 311 <= 4.5)\\n        If (feature 311 <= 2.5)\\n         Predict: 0.42387344199424737\\n        Else (feature 311 > 2.5)\\n         Predict: 0.3290687919463087\\n       Else (feature 311 > 4.5)\\n        Predict: 0.22695749440715884\\n      Else (feature 311 > 6.5)\\n       If (feature 306 in {0.0})\\n        Predict: 0.312751677852349\\n       Else (feature 306 not in {0.0})\\n        Predict: 0.6916107382550335\\n  Tree 5 (weight 1.0):\\n    If (feature 306 in {0.0})\\n     If (feature 309 <= 15.5)\\n      If (feature 308 <= 33.5)\\n       If (feature 309 <= 8.5)\\n        If (feature 310 <= 58.5)\\n         Predict: 0.17333827118751594\\n        Else (feature 310 > 58.5)\\n         Predict: 0.20999161767024305\\n       Else (feature 309 > 8.5)\\n        If (feature 308 <= 19.5)\\n         Predict: 0.17522570229840845\\n        Else (feature 308 > 19.5)\\n         Predict: 0.17922101763952616\\n      Else (feature 308 > 33.5)\\n       If (feature 308 <= 41.5)\\n        If (feature 310 <= 58.5)\\n         Predict: 0.17979868035578234\\n        Else (feature 310 > 58.5)\\n         Predict: 0.2179336863750999\\n       Else (feature 308 > 41.5)\\n        If (feature 305 in {0.0})\\n         Predict: 0.1887696819759326\\n        Else (feature 305 not in {0.0})\\n         Predict: 0.1949479827128612\\n     Else (feature 309 > 15.5)\\n      If (feature 308 <= 34.5)\\n       If (feature 307 in {1.0})\\n        If (feature 310 <= 96.5)\\n         Predict: 0.1758571587864614\\n        Else (feature 310 > 96.5)\\n         Predict: 0.2528368950900744\\n       Else (feature 307 not in {1.0})\\n        If (feature 308 <= 18.5)\\n         Predict: 0.1782992300465964\\n        Else (feature 308 > 18.5)\\n         Predict: 0.18324376894857286\\n      Else (feature 308 > 34.5)\\n       If (feature 308 <= 41.5)\\n        If (feature 0 in {1.0,4.0,5.0,6.0,8.0,9.0,10.0,12.0,14.0,15.0,16.0,17.0})\\n         Predict: 0.1890899160464503\\n        Else (feature 0 not in {1.0,4.0,5.0,6.0,8.0,9.0,10.0,12.0,14.0,15.0,16.0,17.0})\\n         Predict: 0.19854197197823237\\n       Else (feature 308 > 41.5)\\n        If (feature 177 in {0.0})\\n         Predict: 0.20479032920810675\\n        Else (feature 177 not in {0.0})\\n         Predict: 0.5097315436241843\\n    Else (feature 306 not in {0.0})\\n     If (feature 310 <= 58.5)\\n      If (feature 2 in {0.0})\\n       If (feature 310 <= 14.5)\\n        If (feature 310 <= -0.5)\\n         Predict: 0.17159245030859785\\n        Else (feature 310 > -0.5)\\n         Predict: 0.17498988987592157\\n       Else (feature 310 > 14.5)\\n        If (feature 8 in {1.0})\\n         Predict: 0.18276904816678172\\n        Else (feature 8 not in {1.0})\\n         Predict: 0.18426133347830015\\n      Else (feature 2 not in {0.0})\\n       If (feature 310 <= 15.5)\\n        If (feature 310 <= 2.5)\\n         Predict: 0.17202545185350995\\n        Else (feature 310 > 2.5)\\n         Predict: 0.17631942605502685\\n       Else (feature 310 > 15.5)\\n        If (feature 308 <= 41.5)\\n         Predict: 0.18455444240674265\\n        Else (feature 308 > 41.5)\\n         Predict: 0.2007013193200681\\n     Else (feature 310 > 58.5)\\n      If (feature 310 <= 96.5)\\n       If (feature 308 <= 41.5)\\n        If (feature 0 in {0.0,4.0,6.0,7.0,9.0,14.0})\\n         Predict: 0.19745895983081882\\n        Else (feature 0 not in {0.0,4.0,6.0,7.0,9.0,14.0})\\n         Predict: 0.19888789060632836\\n       Else (feature 308 > 41.5)\\n        If (feature 0 in {7.0,9.0,14.0,15.0,16.0})\\n         Predict: 0.20837041916822252\\n        Else (feature 0 not in {7.0,9.0,14.0,15.0,16.0})\\n         Predict: 0.21325535245377364\\n      Else (feature 310 > 96.5)\\n       If (feature 0 in {0.0,1.0,2.0,4.0,6.0,9.0,12.0,17.0,19.0})\\n        If (feature 203 in {0.0})\\n         Predict: 0.2257158588637437\\n        Else (feature 203 not in {0.0})\\n         Predict: 0.42852348993255873\\n       Else (feature 0 not in {0.0,1.0,2.0,4.0,6.0,9.0,12.0,17.0,19.0})\\n        If (feature 141 in {0.0})\\n         Predict: 0.22921717288065\\n        Else (feature 141 not in {0.0})\\n         Predict: 0.25429003816291285\\n  Tree 6 (weight 1.0):\\n    If (feature 310 <= 58.5)\\n     If (feature 309 <= 19.5)\\n      If (feature 308 <= 35.5)\\n       If (feature 310 <= 14.5)\\n        If (feature 16 in {1.0})\\n         Predict: 0.1699748156351964\\n        Else (feature 16 not in {1.0})\\n         Predict: 0.17245717230737295\\n       Else (feature 310 > 14.5)\\n        If (feature 304 in {1.0})\\n         Predict: 0.1827500413612482\\n        Else (feature 304 not in {1.0})\\n         Predict: 0.18305129818294757\\n      Else (feature 308 > 35.5)\\n       If (feature 18 in {1.0})\\n        If (feature 308 <= 41.5)\\n         Predict: 0.1772332221768798\\n        Else (feature 308 > 41.5)\\n         Predict: 0.18317830094877222\\n       Else (feature 18 not in {1.0})\\n        If (feature 308 <= 41.5)\\n         Predict: 0.18058696832464644\\n        Else (feature 308 > 41.5)\\n         Predict: 0.1883748145622593\\n     Else (feature 309 > 19.5)\\n      If (feature 310 <= 13.5)\\n       If (feature 308 <= 41.5)\\n        If (feature 310 <= -1.5)\\n         Predict: 0.17612451479390034\\n        Else (feature 310 > -1.5)\\n         Predict: 0.17942217661357407\\n       Else (feature 308 > 41.5)\\n        If (feature 306 in {1.0})\\n         Predict: 0.19047840753364492\\n        Else (feature 306 not in {1.0})\\n         Predict: 0.19426195457888862\\n      Else (feature 310 > 13.5)\\n       If (feature 308 <= 41.5)\\n        If (feature 310 <= 39.5)\\n         Predict: 0.18730362380714322\\n        Else (feature 310 > 39.5)\\n         Predict: 0.19611463636185417\\n       Else (feature 308 > 41.5)\\n        If (feature 309 <= 26.5)\\n         Predict: 0.20369885582598848\\n        Else (feature 309 > 26.5)\\n         Predict: 0.2120680621740974\\n    Else (feature 310 > 58.5)\\n     If (feature 309 <= 13.5)\\n      If (feature 307 in {0.0})\\n       If (feature 310 <= 96.5)\\n        If (feature 309 <= 6.5)\\n         Predict: 0.198318477869359\\n        Else (feature 309 > 6.5)\\n         Predict: 0.2000452011826937\\n       Else (feature 310 > 96.5)\\n        If (feature 309 <= 5.5)\\n         Predict: 0.22469901868068243\\n        Else (feature 309 > 5.5)\\n         Predict: 0.22873599684461998\\n      Else (feature 307 not in {0.0})\\n       If (feature 310 <= 96.5)\\n        If (feature 308 <= 28.5)\\n         Predict: 0.19716717111900686\\n        Else (feature 308 > 28.5)\\n         Predict: 0.20775759968416913\\n       Else (feature 310 > 96.5)\\n        If (feature 40 in {0.0})\\n         Predict: 0.2438100575458932\\n        Else (feature 40 not in {0.0})\\n         Predict: 0.29801113111802363\\n     Else (feature 309 > 13.5)\\n      If (feature 310 <= 96.5)\\n       If (feature 308 <= 41.5)\\n        If (feature 308 <= 22.5)\\n         Predict: 0.202046791631444\\n        Else (feature 308 > 22.5)\\n         Predict: 0.20620690883372075\\n       Else (feature 308 > 41.5)\\n        If (feature 312 <= 0.21167440921026054)\\n         Predict: 0.21995627919996272\\n        Else (feature 312 > 0.21167440921026054)\\n         Predict: 0.2158773544057154\\n      Else (feature 310 > 96.5)\\n       If (feature 308 <= 41.5)\\n        If (feature 109 in {0.0})\\n         Predict: 0.23454358153391477\\n        Else (feature 109 not in {0.0})\\n         Predict: 0.28510906040268935\\n       Else (feature 308 > 41.5)\\n        If (feature 177 in {0.0})\\n         Predict: 0.2527894159903986\\n        Else (feature 177 not in {0.0})\\n         Predict: 0.5097315436241843\\n  Tree 7 (weight 1.0):\\n    If (feature 310 <= 58.5)\\n     If (feature 309 <= 17.5)\\n      If (feature 310 <= 14.5)\\n       If (feature 310 <= -0.5)\\n        If (feature 311 <= 5.5)\\n         Predict: 0.1718244156219509\\n        Else (feature 311 > 5.5)\\n         Predict: 0.17147217643800225\\n       Else (feature 310 > -0.5)\\n        If (feature 308 <= 35.5)\\n         Predict: 0.1742866981859418\\n        Else (feature 308 > 35.5)\\n         Predict: 0.1841198962539102\\n      Else (feature 310 > 14.5)\\n       If (feature 310 <= 39.5)\\n        If (feature 310 <= 27.5)\\n         Predict: 0.18035633985511193\\n        Else (feature 310 > 27.5)\\n         Predict: 0.18476685544986463\\n       Else (feature 310 > 39.5)\\n        If (feature 309 <= 6.5)\\n         Predict: 0.18932759639247623\\n        Else (feature 309 > 6.5)\\n         Predict: 0.19100693387373538\\n     Else (feature 309 > 17.5)\\n      If (feature 310 <= 14.5)\\n       If (feature 0 in {12.0,19.0})\\n        If (feature 308 <= 22.5)\\n         Predict: 0.17416030239913605\\n        Else (feature 308 > 22.5)\\n         Predict: 0.1810612244897955\\n       Else (feature 0 not in {12.0,19.0})\\n        If (feature 308 <= 41.5)\\n         Predict: 0.17680665651071545\\n        Else (feature 308 > 41.5)\\n         Predict: 0.1923552775636653\\n      Else (feature 310 > 14.5)\\n       If (feature 9 in {0.0})\\n        If (feature 308 <= 41.5)\\n         Predict: 0.1892120724211942\\n        Else (feature 308 > 41.5)\\n         Predict: 0.20659141888775978\\n       Else (feature 9 not in {0.0})\\n        If (feature 310 <= 39.5)\\n         Predict: 0.18997659466471153\\n        Else (feature 310 > 39.5)\\n         Predict: 0.1998279125795904\\n    Else (feature 310 > 58.5)\\n     If (feature 310 <= 96.5)\\n      If (feature 308 <= 41.5)\\n       If (feature 308 <= 20.5)\\n        If (feature 309 <= 14.5)\\n         Predict: 0.19706164156745773\\n        Else (feature 309 > 14.5)\\n         Predict: 0.2022725881122067\\n       Else (feature 308 > 20.5)\\n        If (feature 309 <= 20.5)\\n         Predict: 0.20115943781540518\\n        Else (feature 309 > 20.5)\\n         Predict: 0.20902267244434727\\n      Else (feature 308 > 41.5)\\n       If (feature 12 in {1.0})\\n        If (feature 309 <= 32.5)\\n         Predict: 0.2070114242689026\\n        Else (feature 309 > 32.5)\\n         Predict: 0.23670302013422884\\n       Else (feature 12 not in {1.0})\\n        If (feature 3 in {0.0})\\n         Predict: 0.2132957668301355\\n        Else (feature 3 not in {0.0})\\n         Predict: 0.2187942035091942\\n     Else (feature 310 > 96.5)\\n      If (feature 309 <= 13.5)\\n       If (feature 305 in {1.0})\\n        If (feature 309 <= 6.5)\\n         Predict: 0.22448209553937692\\n        Else (feature 309 > 6.5)\\n         Predict: 0.22864095547103683\\n       Else (feature 305 not in {1.0})\\n        If (feature 308 <= 41.5)\\n         Predict: 0.22707452053418045\\n        Else (feature 308 > 41.5)\\n         Predict: 0.241664959482387\\n      Else (feature 309 > 13.5)\\n       If (feature 308 <= 41.5)\\n        If (feature 203 in {0.0})\\n         Predict: 0.2349287265241668\\n        Else (feature 203 not in {0.0})\\n         Predict: 0.32308724832219016\\n       Else (feature 308 > 41.5)\\n        If (feature 309 <= 31.5)\\n         Predict: 0.24870003267326204\\n        Else (feature 309 > 31.5)\\n         Predict: 0.26894002722778176\\n  Tree 8 (weight 1.0):\\n    If (feature 308 <= 35.5)\\n     If (feature 306 in {0.0})\\n      If (feature 310 <= 58.5)\\n       If (feature 309 <= 14.5)\\n        If (feature 310 <= 13.5)\\n         Predict: 0.17232411926700586\\n        Else (feature 310 > 13.5)\\n         Predict: 0.1824512045592404\\n       Else (feature 309 > 14.5)\\n        If (feature 305 in {0.0})\\n         Predict: 0.1762734869823739\\n        Else (feature 305 not in {0.0})\\n         Predict: 0.17734057607656012\\n      Else (feature 310 > 58.5)\\n       If (feature 0 in {0.0,2.0,4.0,15.0,16.0,17.0,19.0})\\n        If (feature 307 in {0.0})\\n         Predict: 0.20750772795924716\\n        Else (feature 307 not in {0.0})\\n         Predict: 0.23996668631597173\\n       Else (feature 0 not in {0.0,2.0,4.0,15.0,16.0,17.0,19.0})\\n        If (feature 307 in {0.0})\\n         Predict: 0.2114624186763738\\n        Else (feature 307 not in {0.0})\\n         Predict: 0.2333037040832011\\n     Else (feature 306 not in {0.0})\\n      If (feature 310 <= 58.5)\\n       If (feature 309 <= 18.5)\\n        If (feature 308 <= 19.5)\\n         Predict: 0.17413330350920495\\n        Else (feature 308 > 19.5)\\n         Predict: 0.1768766954739656\\n       Else (feature 309 > 18.5)\\n        If (feature 0 in {2.0,4.0,5.0,9.0,12.0,13.0,16.0})\\n         Predict: 0.17875250524122843\\n        Else (feature 0 not in {2.0,4.0,5.0,9.0,12.0,13.0,16.0})\\n         Predict: 0.18077962620181406\\n      Else (feature 310 > 58.5)\\n       If (feature 0 in {0.0,4.0,17.0})\\n        If (feature 31 in {1.0})\\n         Predict: 0.20512592366619214\\n        Else (feature 31 not in {1.0})\\n         Predict: 0.2094899412062641\\n       Else (feature 0 not in {0.0,4.0,17.0})\\n        If (feature 310 <= 96.5)\\n         Predict: 0.19824013730299953\\n        Else (feature 310 > 96.5)\\n         Predict: 0.22682767900622985\\n    Else (feature 308 > 35.5)\\n     If (feature 308 <= 41.5)\\n      If (feature 304 in {1.0})\\n       If (feature 0 in {4.0,5.0,7.0,9.0,10.0,14.0,15.0,19.0})\\n        If (feature 310 <= 39.5)\\n         Predict: 0.1782991303739909\\n        Else (feature 310 > 39.5)\\n         Predict: 0.20448068510523046\\n       Else (feature 0 not in {4.0,5.0,7.0,9.0,10.0,14.0,15.0,19.0})\\n        If (feature 310 <= 58.5)\\n         Predict: 0.18089797691473208\\n        Else (feature 310 > 58.5)\\n         Predict: 0.21967707970366804\\n      Else (feature 304 not in {1.0})\\n       If (feature 16 in {1.0})\\n        If (feature 310 <= 96.5)\\n         Predict: 0.17625754752979728\\n        Else (feature 310 > 96.5)\\n         Predict: 0.23185562928889242\\n       Else (feature 16 not in {1.0})\\n        If (feature 0 in {4.0,5.0,7.0,8.0,9.0,10.0,12.0,13.0,15.0,16.0})\\n         Predict: 0.18625386155844592\\n        Else (feature 0 not in {4.0,5.0,7.0,8.0,9.0,10.0,12.0,13.0,15.0,16.0})\\n         Predict: 0.1912687134668453\\n     Else (feature 308 > 41.5)\\n      If (feature 304 in {1.0})\\n       If (feature 309 <= 13.5)\\n        If (feature 2 in {0.0})\\n         Predict: 0.18779286928720174\\n        Else (feature 2 not in {0.0})\\n         Predict: 0.19431644939335854\\n       Else (feature 309 > 13.5)\\n        If (feature 309 <= 32.5)\\n         Predict: 0.19500429932215882\\n        Else (feature 309 > 32.5)\\n         Predict: 0.21273421321823324\\n      Else (feature 304 not in {1.0})\\n       If (feature 309 <= 16.5)\\n        If (feature 16 in {1.0})\\n         Predict: 0.18992670699949415\\n        Else (feature 16 not in {1.0})\\n         Predict: 0.19792603936660053\\n       Else (feature 309 > 16.5)\\n        If (feature 0 in {1.0,4.0,5.0,8.0,9.0,12.0,14.0,15.0,16.0,17.0})\\n         Predict: 0.20654867291339482\\n        Else (feature 0 not in {1.0,4.0,5.0,8.0,9.0,12.0,14.0,15.0,16.0,17.0})\\n         Predict: 0.21721503792219138\\n  Tree 9 (weight 1.0):\\n    If (feature 310 <= 58.5)\\n     If (feature 310 <= 14.5)\\n      If (feature 1 in {0.0})\\n       If (feature 310 <= -0.5)\\n        If (feature 308 <= 29.5)\\n         Predict: 0.1714342716734085\\n        Else (feature 308 > 29.5)\\n         Predict: 0.17834083994393737\\n       Else (feature 310 > -0.5)\\n        If (feature 310 <= 5.5)\\n         Predict: 0.173972967208415\\n        Else (feature 310 > 5.5)\\n         Predict: 0.17668265506509817\\n      Else (feature 1 not in {0.0})\\n       If (feature 308 <= 26.5)\\n        If (feature 307 in {1.0})\\n         Predict: 0.17092031290856796\\n        Else (feature 307 not in {1.0})\\n         Predict: 0.17257325210487412\\n       Else (feature 308 > 26.5)\\n        If (feature 308 <= 41.5)\\n         Predict: 0.17670443440271766\\n        Else (feature 308 > 41.5)\\n         Predict: 0.18538287983883958\\n     Else (feature 310 > 14.5)\\n      If (feature 310 <= 39.5)\\n       If (feature 8 in {1.0})\\n        If (feature 308 <= 25.5)\\n         Predict: 0.17957610033701787\\n        Else (feature 308 > 25.5)\\n         Predict: 0.18627638488020343\\n       Else (feature 8 not in {1.0})\\n        If (feature 310 <= 27.5)\\n         Predict: 0.18054983761645277\\n        Else (feature 310 > 27.5)\\n         Predict: 0.18499276423977504\\n      Else (feature 310 > 39.5)\\n       If (feature 308 <= 41.5)\\n        If (feature 21 in {1.0})\\n         Predict: 0.18743020102734012\\n        Else (feature 21 not in {1.0})\\n         Predict: 0.189252910734577\\n       Else (feature 308 > 41.5)\\n        If (feature 12 in {1.0})\\n         Predict: 0.19830859204258117\\n        Else (feature 12 not in {1.0})\\n         Predict: 0.20426852169369208\\n    Else (feature 310 > 58.5)\\n     If (feature 308 <= 41.5)\\n      If (feature 310 <= 96.5)\\n       If (feature 308 <= 20.5)\\n        If (feature 309 <= 14.5)\\n         Predict: 0.19707840610438793\\n        Else (feature 309 > 14.5)\\n         Predict: 0.20246588570055335\\n       Else (feature 308 > 20.5)\\n        If (feature 308 <= 29.5)\\n         Predict: 0.20040543136416308\\n        Else (feature 308 > 29.5)\\n         Predict: 0.2032881538202018\\n      Else (feature 310 > 96.5)\\n       If (feature 309 <= 13.5)\\n        If (feature 309 <= 6.5)\\n         Predict: 0.2249875265633015\\n        Else (feature 309 > 6.5)\\n         Predict: 0.2284557544831585\\n       Else (feature 309 > 13.5)\\n        If (feature 0 in {0.0,2.0,4.0,5.0,9.0,12.0,13.0,15.0,17.0})\\n         Predict: 0.23241239270054126\\n        Else (feature 0 not in {0.0,2.0,4.0,5.0,9.0,12.0,13.0,15.0,17.0})\\n         Predict: 0.2373328877282173\\n     Else (feature 308 > 41.5)\\n      If (feature 309 <= 22.5)\\n       If (feature 251 in {0.0})\\n        If (feature 18 in {1.0})\\n         Predict: 0.2219617232483857\\n        Else (feature 18 not in {1.0})\\n         Predict: 0.2281522006311974\\n       Else (feature 251 not in {0.0})\\n        Predict: 0.32259507829970363\\n      Else (feature 309 > 22.5)\\n       If (feature 85 in {0.0})\\n        If (feature 312 <= 0.12512623712381338)\\n         Predict: 0.2518300370592056\\n        Else (feature 312 > 0.12512623712381338)\\n         Predict: 0.2419500791795491\\n       Else (feature 85 not in {0.0})\\n        If (feature 0 in {10.0})\\n         Predict: 0.2610738255033557\\n        Else (feature 0 not in {10.0})\\n         Predict: 0.29590604026845635\\n  Tree 10 (weight 1.0):\\n    If (feature 310 <= 58.5)\\n     If (feature 304 in {1.0})\\n      If (feature 0 in {0.0,4.0,12.0,14.0,16.0,18.0,19.0})\\n       If (feature 312 <= 0.0986669359725308)\\n        If (feature 16 in {1.0})\\n         Predict: 0.17199027391880756\\n        Else (feature 16 not in {1.0})\\n         Predict: 0.17339097737656126\\n       Else (feature 312 > 0.0986669359725308)\\n        If (feature 310 <= 11.5)\\n         Predict: 0.17198297349591316\\n        Else (feature 310 > 11.5)\\n         Predict: 0.1812025227371789\\n      Else (feature 0 not in {0.0,4.0,12.0,14.0,16.0,18.0,19.0})\\n       If (feature 308 <= 33.5)\\n        If (feature 12 in {1.0})\\n         Predict: 0.17251375366291713\\n        Else (feature 12 not in {1.0})\\n         Predict: 0.17357536832936585\\n       Else (feature 308 > 33.5)\\n        If (feature 308 <= 41.5)\\n         Predict: 0.17945465397425284\\n        Else (feature 308 > 41.5)\\n         Predict: 0.18682845953126903\\n     Else (feature 304 not in {1.0})\\n      If (feature 0 in {2.0,4.0,12.0,16.0,18.0,19.0})\\n       If (feature 310 <= 13.5)\\n        If (feature 308 <= 27.5)\\n         Predict: 0.17195755088910192\\n        Else (feature 308 > 27.5)\\n         Predict: 0.1792394726247201\\n       Else (feature 310 > 13.5)\\n        If (feature 308 <= 41.5)\\n         Predict: 0.18317820941849378\\n        Else (feature 308 > 41.5)\\n         Predict: 0.19820589861974905\\n      Else (feature 0 not in {2.0,4.0,12.0,16.0,18.0,19.0})\\n       If (feature 309 <= 17.5)\\n        If (feature 0 in {0.0,5.0,6.0,7.0,10.0,13.0,14.0})\\n         Predict: 0.17479433913453465\\n        Else (feature 0 not in {0.0,5.0,6.0,7.0,10.0,13.0,14.0})\\n         Predict: 0.1753384125569321\\n       Else (feature 309 > 17.5)\\n        If (feature 309 <= 32.5)\\n         Predict: 0.17861766849229668\\n        Else (feature 309 > 32.5)\\n         Predict: 0.18616378563114488\\n    Else (feature 310 > 58.5)\\n     If (feature 305 in {1.0})\\n      If (feature 308 <= 35.5)\\n       If (feature 3 in {1.0})\\n        If (feature 309 <= 8.5)\\n         Predict: 0.20547005891595937\\n        Else (feature 309 > 8.5)\\n         Predict: 0.2132877756887493\\n       Else (feature 3 not in {1.0})\\n        If (feature 0 in {0.0,4.0,17.0,19.0})\\n         Predict: 0.2064451130795881\\n        Else (feature 0 not in {0.0,4.0,17.0,19.0})\\n         Predict: 0.21131566539616226\\n      Else (feature 308 > 35.5)\\n       If (feature 0 in {0.0,4.0,5.0,6.0,9.0,12.0,14.0,15.0,17.0,18.0})\\n        If (feature 310 <= 96.5)\\n         Predict: 0.21052380105782484\\n        Else (feature 310 > 96.5)\\n         Predict: 0.2382574722959264\\n       Else (feature 0 not in {0.0,4.0,5.0,6.0,9.0,12.0,14.0,15.0,17.0,18.0})\\n        If (feature 310 <= 96.5)\\n         Predict: 0.2126443411397554\\n        Else (feature 310 > 96.5)\\n         Predict: 0.24168711275740604\\n     Else (feature 305 not in {1.0})\\n      If (feature 308 <= 41.5)\\n       If (feature 308 <= 22.5)\\n        If (feature 309 <= 16.5)\\n         Predict: 0.21178899456018613\\n        Else (feature 309 > 16.5)\\n         Predict: 0.22285765632732427\\n       Else (feature 308 > 22.5)\\n        If (feature 0 in {1.0,2.0,3.0,4.0,5.0,6.0,7.0,9.0,10.0,12.0,13.0,14.0,15.0,16.0,17.0})\\n         Predict: 0.21665918110145366\\n        Else (feature 0 not in {1.0,2.0,3.0,4.0,5.0,6.0,7.0,9.0,10.0,12.0,13.0,14.0,15.0,16.0,17.0})\\n         Predict: 0.2221613746908871\\n      Else (feature 308 > 41.5)\\n       If (feature 12 in {1.0})\\n        If (feature 307 in {0.0})\\n         Predict: 0.21825879959079514\\n        Else (feature 307 not in {0.0})\\n         Predict: 0.26449664429530156\\n       Else (feature 12 not in {1.0})\\n        If (feature 310 <= 96.5)\\n         Predict: 0.2130684644985736\\n        Else (feature 310 > 96.5)\\n         Predict: 0.24481147865376057\\n  Tree 11 (weight 1.0):\\n    If (feature 310 <= 58.5)\\n     If (feature 310 <= 14.5)\\n      If (feature 308 <= 32.5)\\n       If (feature 309 <= 14.5)\\n        If (feature 310 <= -0.5)\\n         Predict: 0.17131935910495602\\n        Else (feature 310 > -0.5)\\n         Predict: 0.17417929439139193\\n       Else (feature 309 > 14.5)\\n        If (feature 309 <= 31.5)\\n         Predict: 0.1749358073681244\\n        Else (feature 309 > 31.5)\\n         Predict: 0.18164089510085601\\n      Else (feature 308 > 32.5)\\n       If (feature 12 in {1.0})\\n        If (feature 308 <= 41.5)\\n         Predict: 0.17465726200560364\\n        Else (feature 308 > 41.5)\\n         Predict: 0.18041246781159398\\n       Else (feature 12 not in {1.0})\\n        If (feature 305 in {0.0})\\n         Predict: 0.1808856062711046\\n        Else (feature 305 not in {0.0})\\n         Predict: 0.18187832378601976\\n     Else (feature 310 > 14.5)\\n      If (feature 308 <= 41.5)\\n       If (feature 21 in {1.0})\\n        If (feature 311 <= 6.5)\\n         Predict: 0.18160520123064833\\n        Else (feature 311 > 6.5)\\n         Predict: 0.18211362215590757\\n       Else (feature 21 not in {1.0})\\n        If (feature 308 <= 21.5)\\n         Predict: 0.18252607877516283\\n        Else (feature 308 > 21.5)\\n         Predict: 0.18647123130721355\\n      Else (feature 308 > 41.5)\\n       If (feature 3 in {0.0})\\n        If (feature 309 <= 13.5)\\n         Predict: 0.19688851323443196\\n        Else (feature 309 > 13.5)\\n         Predict: 0.2034809783100268\\n       Else (feature 3 not in {0.0})\\n        If (feature 311 <= 5.5)\\n         Predict: 0.20495710271996626\\n        Else (feature 311 > 5.5)\\n         Predict: 0.2013313052750423\\n    Else (feature 310 > 58.5)\\n     If (feature 308 <= 41.5)\\n      If (feature 307 in {0.0})\\n       If (feature 310 <= 96.5)\\n        If (feature 309 <= 15.5)\\n         Predict: 0.19803364897460865\\n        Else (feature 309 > 15.5)\\n         Predict: 0.20376153135237335\\n       Else (feature 310 > 96.5)\\n        If (feature 39 in {0.0})\\n         Predict: 0.22628615459801943\\n        Else (feature 39 not in {0.0})\\n         Predict: 0.25001778368848726\\n      Else (feature 307 not in {0.0})\\n       If (feature 310 <= 96.5)\\n        If (feature 0 in {1.0,4.0,5.0,6.0,9.0,11.0,13.0,14.0,16.0,19.0})\\n         Predict: 0.1971988973799606\\n        Else (feature 0 not in {1.0,4.0,5.0,6.0,9.0,11.0,13.0,14.0,16.0,19.0})\\n         Predict: 0.20145985401459912\\n       Else (feature 310 > 96.5)\\n        If (feature 10 in {1.0})\\n         Predict: 0.22373769052248638\\n        Else (feature 10 not in {1.0})\\n         Predict: 0.2448394907208004\\n     Else (feature 308 > 41.5)\\n      If (feature 310 <= 96.5)\\n       If (feature 12 in {1.0})\\n        If (feature 305 in {0.0})\\n         Predict: 0.2056038227628149\\n        Else (feature 305 not in {0.0})\\n         Predict: 0.21358149940169605\\n       Else (feature 12 not in {1.0})\\n        If (feature 309 <= 22.5)\\n         Predict: 0.21303638362224936\\n        Else (feature 309 > 22.5)\\n         Predict: 0.225685291501577\\n      Else (feature 310 > 96.5)\\n       If (feature 12 in {1.0})\\n        If (feature 306 in {1.0})\\n         Predict: 0.23204261594486406\\n        Else (feature 306 not in {1.0})\\n         Predict: 0.23947632744372913\\n       Else (feature 12 not in {1.0})\\n        If (feature 188 in {0.0})\\n         Predict: 0.24355199883512613\\n        Else (feature 188 not in {0.0})\\n         Predict: 0.43033557046983334\\n  Tree 12 (weight 1.0):\\n    If (feature 310 <= 58.5)\\n     If (feature 310 <= 14.5)\\n      If (feature 309 <= 13.5)\\n       If (feature 308 <= 29.5)\\n        If (feature 310 <= -0.5)\\n         Predict: 0.1712296634743995\\n        Else (feature 310 > -0.5)\\n         Predict: 0.1740842489001156\\n       Else (feature 308 > 29.5)\\n        If (feature 308 <= 41.5)\\n         Predict: 0.17695141475670517\\n        Else (feature 308 > 41.5)\\n         Predict: 0.18430886724423612\\n      Else (feature 309 > 13.5)\\n       If (feature 309 <= 30.5)\\n        If (feature 1 in {0.0})\\n         Predict: 0.17509253173222453\\n        Else (feature 1 not in {0.0})\\n         Predict: 0.1761484080864293\\n       Else (feature 309 > 30.5)\\n        If (feature 310 <= -1.5)\\n         Predict: 0.1802098657718121\\n        Else (feature 310 > -1.5)\\n         Predict: 0.18464064421897272\\n     Else (feature 310 > 14.5)\\n      If (feature 308 <= 41.5)\\n       If (feature 308 <= 21.5)\\n        If (feature 310 <= 39.5)\\n         Predict: 0.18060232120133118\\n        Else (feature 310 > 39.5)\\n         Predict: 0.18845069072895376\\n       Else (feature 308 > 21.5)\\n        If (feature 308 <= 29.5)\\n         Predict: 0.18545197059782134\\n        Else (feature 308 > 29.5)\\n         Predict: 0.18815673958728954\\n      Else (feature 308 > 41.5)\\n       If (feature 310 <= 39.5)\\n        If (feature 310 <= 27.5)\\n         Predict: 0.1933221455886229\\n        Else (feature 310 > 27.5)\\n         Predict: 0.1979006228095862\\n       Else (feature 310 > 39.5)\\n        If (feature 0 in {4.0,5.0,7.0,8.0,9.0,14.0,15.0,17.0})\\n         Predict: 0.2021168298133593\\n        Else (feature 0 not in {4.0,5.0,7.0,8.0,9.0,14.0,15.0,17.0})\\n         Predict: 0.2055908448340614\\n    Else (feature 310 > 58.5)\\n     If (feature 310 <= 96.5)\\n      If (feature 308 <= 41.5)\\n       If (feature 309 <= 14.5)\\n        If (feature 309 <= 7.5)\\n         Predict: 0.19755374338574538\\n        Else (feature 309 > 7.5)\\n         Predict: 0.1991660941580576\\n       Else (feature 309 > 14.5)\\n        If (feature 308 <= 23.5)\\n         Predict: 0.2025763152197445\\n        Else (feature 308 > 23.5)\\n         Predict: 0.2068957023921405\\n      Else (feature 308 > 41.5)\\n       If (feature 12 in {1.0})\\n        If (feature 306 in {1.0})\\n         Predict: 0.20526507695591345\\n        Else (feature 306 not in {1.0})\\n         Predict: 0.21171391107813878\\n       Else (feature 12 not in {1.0})\\n        If (feature 309 <= 22.5)\\n         Predict: 0.21328948554205712\\n        Else (feature 309 > 22.5)\\n         Predict: 0.22569732707452492\\n     Else (feature 310 > 96.5)\\n      If (feature 307 in {0.0})\\n       If (feature 308 <= 41.5)\\n        If (feature 0 in {0.0,1.0,2.0,3.0,4.0,5.0,6.0,7.0,9.0,10.0,11.0,12.0,13.0,14.0,15.0,16.0,17.0,19.0})\\n         Predict: 0.22588205427817604\\n        Else (feature 0 not in {0.0,1.0,2.0,3.0,4.0,5.0,6.0,7.0,9.0,10.0,11.0,12.0,13.0,14.0,15.0,16.0,17.0,19.0})\\n         Predict: 0.2388273807229369\\n       Else (feature 308 > 41.5)\\n        If (feature 309 <= 15.5)\\n         Predict: 0.2412605128893806\\n        Else (feature 309 > 15.5)\\n         Predict: 0.2565350681292162\\n      Else (feature 307 not in {0.0})\\n       If (feature 308 <= 35.5)\\n        If (feature 0 in {1.0,2.0,4.0,5.0,6.0,11.0,12.0,13.0,14.0,15.0,16.0})\\n         Predict: 0.23875115655133447\\n        Else (feature 0 not in {1.0,2.0,4.0,5.0,6.0,11.0,12.0,13.0,14.0,15.0,16.0})\\n         Predict: 0.2525974639785018\\n       Else (feature 308 > 35.5)\\n        If (feature 0 in {1.0,2.0,3.0,4.0,6.0,7.0,8.0,9.0,10.0,12.0,13.0,14.0,15.0,17.0})\\n         Predict: 0.2593279269202088\\n        Else (feature 0 not in {1.0,2.0,3.0,4.0,6.0,7.0,8.0,9.0,10.0,12.0,13.0,14.0,15.0,17.0})\\n         Predict: 0.2855203270847799\\n  Tree 13 (weight 1.0):\\n    If (feature 304 in {1.0})\\n     If (feature 2 in {0.0})\\n      If (feature 310 <= 39.5)\\n       If (feature 310 <= 7.5)\\n        If (feature 308 <= 29.5)\\n         Predict: 0.17216232606415657\\n        Else (feature 308 > 29.5)\\n         Predict: 0.1789144156913788\\n       Else (feature 310 > 7.5)\\n        If (feature 308 <= 34.5)\\n         Predict: 0.179120455380691\\n        Else (feature 308 > 34.5)\\n         Predict: 0.18974420456730884\\n      Else (feature 310 > 39.5)\\n       If (feature 310 <= 96.5)\\n        If (feature 310 <= 58.5)\\n         Predict: 0.19022480413309725\\n        Else (feature 310 > 58.5)\\n         Predict: 0.19914741850251902\\n       Else (feature 310 > 96.5)\\n        If (feature 0 in {0.0,2.0,4.0,5.0,6.0,7.0,9.0,10.0,11.0,12.0,13.0,14.0,15.0,16.0,17.0,18.0,19.0})\\n         Predict: 0.22385959348815593\\n        Else (feature 0 not in {0.0,2.0,4.0,5.0,6.0,7.0,9.0,10.0,11.0,12.0,13.0,14.0,15.0,16.0,17.0,18.0,19.0})\\n         Predict: 0.24669040484012386\\n     Else (feature 2 not in {0.0})\\n      If (feature 310 <= 27.5)\\n       If (feature 312 <= 0.1748131690567562)\\n        If (feature 309 <= 8.5)\\n         Predict: 0.17325745926612435\\n        Else (feature 309 > 8.5)\\n         Predict: 0.1754102277638696\\n       Else (feature 312 > 0.1748131690567562)\\n        If (feature 312 <= 0.4594021409816199)\\n         Predict: 0.17417696863384274\\n        Else (feature 312 > 0.4594021409816199)\\n         Predict: 0.17283143329962292\\n      Else (feature 310 > 27.5)\\n       If (feature 310 <= 96.5)\\n        If (feature 310 <= 58.5)\\n         Predict: 0.1883863580870174\\n        Else (feature 310 > 58.5)\\n         Predict: 0.2001824031580419\\n       Else (feature 310 > 96.5)\\n        If (feature 308 <= 41.5)\\n         Predict: 0.21871910221945884\\n        Else (feature 308 > 41.5)\\n         Predict: 0.23876229124395176\\n    Else (feature 304 not in {1.0})\\n     If (feature 310 <= 58.5)\\n      If (feature 309 <= 21.5)\\n       If (feature 310 <= 14.5)\\n        If (feature 0 in {0.0,2.0,3.0,4.0,6.0,7.0,10.0,12.0,14.0,16.0,19.0})\\n         Predict: 0.17255354253460822\\n        Else (feature 0 not in {0.0,2.0,3.0,4.0,6.0,7.0,10.0,12.0,14.0,16.0,19.0})\\n         Predict: 0.17329090537281966\\n       Else (feature 310 > 14.5)\\n        If (feature 308 <= 41.5)\\n         Predict: 0.18320657828537723\\n        Else (feature 308 > 41.5)\\n         Predict: 0.19754743424278476\\n      Else (feature 309 > 21.5)\\n       If (feature 0 in {2.0,4.0,5.0,7.0,8.0,9.0,10.0,12.0,13.0})\\n        If (feature 308 <= 41.5)\\n         Predict: 0.17928279600187974\\n        Else (feature 308 > 41.5)\\n         Predict: 0.19902103408196187\\n       Else (feature 0 not in {2.0,4.0,5.0,7.0,8.0,9.0,10.0,12.0,13.0})\\n        If (feature 307 in {1.0})\\n         Predict: 0.17860966472164816\\n        Else (feature 307 not in {1.0})\\n         Predict: 0.18240107537992892\\n     Else (feature 310 > 58.5)\\n      If (feature 310 <= 96.5)\\n       If (feature 309 <= 14.5)\\n        If (feature 308 <= 41.5)\\n         Predict: 0.19796069830629082\\n        Else (feature 308 > 41.5)\\n         Predict: 0.21195188186298183\\n       Else (feature 309 > 14.5)\\n        If (feature 308 <= 41.5)\\n         Predict: 0.20341645980815787\\n        Else (feature 308 > 41.5)\\n         Predict: 0.22004135312860137\\n      Else (feature 310 > 96.5)\\n       If (feature 308 <= 41.5)\\n        If (feature 234 in {0.0})\\n         Predict: 0.22712070727824593\\n        Else (feature 234 not in {0.0})\\n         Predict: 0.31718474037437483\\n       Else (feature 308 > 41.5)\\n        If (feature 307 in {0.0})\\n         Predict: 0.2419854913773928\\n        Else (feature 307 not in {0.0})\\n         Predict: 0.2691164051735625\\n  Tree 14 (weight 1.0):\\n    If (feature 308 <= 35.5)\\n     If (feature 309 <= 19.5)\\n      If (feature 304 in {1.0})\\n       If (feature 310 <= 39.5)\\n        If (feature 21 in {1.0})\\n         Predict: 0.17127776028661973\\n        Else (feature 21 not in {1.0})\\n         Predict: 0.17298539275489971\\n       Else (feature 310 > 39.5)\\n        If (feature 310 <= 96.5)\\n         Predict: 0.19308214625105555\\n        Else (feature 310 > 96.5)\\n         Predict: 0.22751870596923468\\n      Else (feature 304 not in {1.0})\\n       If (feature 310 <= 58.5)\\n        If (feature 311 <= 3.5)\\n         Predict: 0.17404477103284496\\n        Else (feature 311 > 3.5)\\n         Predict: 0.1744333243968242\\n       Else (feature 310 > 58.5)\\n        If (feature 307 in {0.0})\\n         Predict: 0.21107259466307707\\n        Else (feature 307 not in {0.0})\\n         Predict: 0.23416715836524743\\n     Else (feature 309 > 19.5)\\n      If (feature 309 <= 32.5)\\n       If (feature 304 in {1.0})\\n        If (feature 310 <= 58.5)\\n         Predict: 0.17684591886676757\\n        Else (feature 310 > 58.5)\\n         Predict: 0.21886545536055693\\n       Else (feature 304 not in {1.0})\\n        If (feature 310 <= 58.5)\\n         Predict: 0.17800012461536868\\n        Else (feature 310 > 58.5)\\n         Predict: 0.22016784247284574\\n      Else (feature 309 > 32.5)\\n       If (feature 0 in {1.0,2.0,4.0,5.0,6.0,7.0,8.0,9.0,10.0,12.0,13.0,15.0,16.0,17.0,18.0,19.0})\\n        If (feature 306 in {0.0})\\n         Predict: 0.18608599126451478\\n        Else (feature 306 not in {0.0})\\n         Predict: 0.19795344731021527\\n       Else (feature 0 not in {1.0,2.0,4.0,5.0,6.0,7.0,8.0,9.0,10.0,12.0,13.0,15.0,16.0,17.0,18.0,19.0})\\n        If (feature 308 <= 19.5)\\n         Predict: 0.19523846602097816\\n        Else (feature 308 > 19.5)\\n         Predict: 0.20622479236079008\\n    Else (feature 308 > 35.5)\\n     If (feature 310 <= 58.5)\\n      If (feature 308 <= 41.5)\\n       If (feature 12 in {1.0})\\n        If (feature 309 <= 12.5)\\n         Predict: 0.17717679075747989\\n        Else (feature 309 > 12.5)\\n         Predict: 0.18066514563591826\\n       Else (feature 12 not in {1.0})\\n        If (feature 310 <= 13.5)\\n         Predict: 0.17841974654319168\\n        Else (feature 310 > 13.5)\\n         Predict: 0.18943609382598228\\n      Else (feature 308 > 41.5)\\n       If (feature 310 <= 15.5)\\n        If (feature 18 in {1.0})\\n         Predict: 0.18102803488865224\\n        Else (feature 18 not in {1.0})\\n         Predict: 0.18516697535563137\\n       Else (feature 310 > 15.5)\\n        If (feature 310 <= 39.5)\\n         Predict: 0.19550960867121228\\n        Else (feature 310 > 39.5)\\n         Predict: 0.20381720120593266\\n     Else (feature 310 > 58.5)\\n      If (feature 308 <= 41.5)\\n       If (feature 309 <= 15.5)\\n        If (feature 18 in {1.0})\\n         Predict: 0.21103765623116186\\n        Else (feature 18 not in {1.0})\\n         Predict: 0.21878046890915925\\n       Else (feature 309 > 15.5)\\n        If (feature 101 in {0.0})\\n         Predict: 0.22886145050574583\\n        Else (feature 101 not in {0.0})\\n         Predict: 0.2803691275167779\\n      Else (feature 308 > 41.5)\\n       If (feature 310 <= 96.5)\\n        If (feature 0 in {5.0,7.0,9.0,12.0,14.0,15.0,16.0,18.0})\\n         Predict: 0.21040149712402095\\n        Else (feature 0 not in {5.0,7.0,9.0,12.0,14.0,15.0,16.0,18.0})\\n         Predict: 0.2143470375588578\\n       Else (feature 310 > 96.5)\\n        If (feature 309 <= 18.5)\\n         Predict: 0.24172012739460233\\n        Else (feature 309 > 18.5)\\n         Predict: 0.2607004502591119\\n  Tree 15 (weight 1.0):\\n    If (feature 308 <= 34.5)\\n     If (feature 306 in {0.0})\\n      If (feature 304 in {1.0})\\n       If (feature 308 <= 18.5)\\n        If (feature 308 <= 13.5)\\n         Predict: 0.1728664161502063\\n        Else (feature 308 > 13.5)\\n         Predict: 0.17417949862937687\\n       Else (feature 308 > 18.5)\\n        If (feature 308 <= 26.5)\\n         Predict: 0.17581647325590924\\n        Else (feature 308 > 26.5)\\n         Predict: 0.17823477430916987\\n      Else (feature 304 not in {1.0})\\n       If (feature 0 in {0.0,2.0,4.0,5.0,7.0,8.0,12.0,16.0,17.0,18.0,19.0})\\n        If (feature 310 <= 58.5)\\n         Predict: 0.1739827589042032\\n        Else (feature 310 > 58.5)\\n         Predict: 0.2113930907429641\\n       Else (feature 0 not in {0.0,2.0,4.0,5.0,7.0,8.0,12.0,16.0,17.0,18.0,19.0})\\n        If (feature 0 in {3.0,9.0,11.0,15.0})\\n         Predict: 0.1766285472029342\\n        Else (feature 0 not in {3.0,9.0,11.0,15.0})\\n         Predict: 0.17743819395716345\\n     Else (feature 306 not in {0.0})\\n      If (feature 12 in {0.0})\\n       If (feature 310 <= 58.5)\\n        If (feature 308 <= 19.5)\\n         Predict: 0.1742394243757925\\n        Else (feature 308 > 19.5)\\n         Predict: 0.17707751973349276\\n       Else (feature 310 > 58.5)\\n        If (feature 281 in {0.0})\\n         Predict: 0.21242580238533953\\n        Else (feature 281 not in {0.0})\\n         Predict: 0.5063758389260329\\n      Else (feature 12 not in {0.0})\\n       If (feature 312 <= 0.3567966067461119)\\n        If (feature 309 <= 27.5)\\n         Predict: 0.1883109346465445\\n        Else (feature 309 > 27.5)\\n         Predict: 0.20861297539150064\\n       Else (feature 312 > 0.3567966067461119)\\n        If (feature 311 <= 1.5)\\n         Predict: 0.18596525858665613\\n        Else (feature 311 > 1.5)\\n         Predict: 0.1810117092674568\\n    Else (feature 308 > 34.5)\\n     If (feature 310 <= 58.5)\\n      If (feature 308 <= 41.5)\\n       If (feature 310 <= 15.5)\\n        If (feature 310 <= 1.5)\\n         Predict: 0.1771343235680415\\n        Else (feature 310 > 1.5)\\n         Predict: 0.18107106427170783\\n       Else (feature 310 > 15.5)\\n        If (feature 310 <= 39.5)\\n         Predict: 0.18725049631382207\\n        Else (feature 310 > 39.5)\\n         Predict: 0.19478186093726035\\n      Else (feature 308 > 41.5)\\n       If (feature 310 <= 15.5)\\n        If (feature 18 in {1.0})\\n         Predict: 0.18111341544361678\\n        Else (feature 18 not in {1.0})\\n         Predict: 0.18520199644776228\\n       Else (feature 310 > 15.5)\\n        If (feature 310 <= 39.5)\\n         Predict: 0.19549785293456912\\n        Else (feature 310 > 39.5)\\n         Predict: 0.20365855125713364\\n     Else (feature 310 > 58.5)\\n      If (feature 307 in {0.0})\\n       If (feature 309 <= 22.5)\\n        If (feature 310 <= 96.5)\\n         Predict: 0.2096137014581983\\n        Else (feature 310 > 96.5)\\n         Predict: 0.23798387626520257\\n       Else (feature 309 > 22.5)\\n        If (feature 310 <= 96.5)\\n         Predict: 0.22189698390878956\\n        Else (feature 310 > 96.5)\\n         Predict: 0.2553538743136059\\n      Else (feature 307 not in {0.0})\\n       If (feature 312 <= 0.31397697434861643)\\n        If (feature 0 in {1.0,3.0,4.0,6.0,7.0,8.0,10.0,12.0,13.0,14.0})\\n         Predict: 0.24952223865316805\\n        Else (feature 0 not in {1.0,3.0,4.0,6.0,7.0,8.0,10.0,12.0,13.0,14.0})\\n         Predict: 0.27749183747505896\\n       Else (feature 312 > 0.31397697434861643)\\n        If (feature 0 in {1.0,4.0,6.0,8.0,14.0,17.0})\\n         Predict: 0.23576474743906747\\n        Else (feature 0 not in {1.0,4.0,6.0,8.0,14.0,17.0})\\n         Predict: 0.25363534675615207\\n  Tree 16 (weight 1.0):\\n    If (feature 310 <= 58.5)\\n     If (feature 310 <= 14.5)\\n      If (feature 308 <= 32.5)\\n       If (feature 0 in {4.0,6.0,12.0,14.0})\\n        If (feature 16 in {1.0})\\n         Predict: 0.17013849336323136\\n        Else (feature 16 not in {1.0})\\n         Predict: 0.17186247041292277\\n       Else (feature 0 not in {4.0,6.0,12.0,14.0})\\n        If (feature 12 in {1.0})\\n         Predict: 0.1717214982650408\\n        Else (feature 12 not in {1.0})\\n         Predict: 0.1726505149966967\\n      Else (feature 308 > 32.5)\\n       If (feature 18 in {1.0})\\n        If (feature 309 <= 17.5)\\n         Predict: 0.1778027339240647\\n        Else (feature 309 > 17.5)\\n         Predict: 0.1837517758291278\\n       Else (feature 18 not in {1.0})\\n        If (feature 308 <= 41.5)\\n         Predict: 0.17794288035055242\\n        Else (feature 308 > 41.5)\\n         Predict: 0.18516185156250475\\n     Else (feature 310 > 14.5)\\n      If (feature 310 <= 39.5)\\n       If (feature 308 <= 41.5)\\n        If (feature 310 <= 27.5)\\n         Predict: 0.17989280950421863\\n        Else (feature 310 > 27.5)\\n         Predict: 0.18415858584861003\\n       Else (feature 308 > 41.5)\\n        If (feature 310 <= 27.5)\\n         Predict: 0.19340504190622856\\n        Else (feature 310 > 27.5)\\n         Predict: 0.19811365247135257\\n      Else (feature 310 > 39.5)\\n       If (feature 0 in {0.0,4.0,6.0,9.0,10.0,12.0,13.0,16.0,19.0})\\n        If (feature 308 <= 41.5)\\n         Predict: 0.1887337722431533\\n        Else (feature 308 > 41.5)\\n         Predict: 0.20314537686411194\\n       Else (feature 0 not in {0.0,4.0,6.0,9.0,10.0,12.0,13.0,16.0,19.0})\\n        If (feature 308 <= 41.5)\\n         Predict: 0.18967573963214768\\n        Else (feature 308 > 41.5)\\n         Predict: 0.2037986427539974\\n    Else (feature 310 > 58.5)\\n     If (feature 308 <= 41.5)\\n      If (feature 305 in {1.0})\\n       If (feature 308 <= 21.5)\\n        If (feature 308 <= 13.5)\\n         Predict: 0.20832111913316842\\n        Else (feature 308 > 13.5)\\n         Predict: 0.21058523758140688\\n       Else (feature 308 > 21.5)\\n        If (feature 310 <= 96.5)\\n         Predict: 0.2020449144154206\\n        Else (feature 310 > 96.5)\\n         Predict: 0.22952876580355333\\n      Else (feature 305 not in {1.0})\\n       If (feature 309 <= 19.5)\\n        If (feature 304 in {1.0})\\n         Predict: 0.2095469608098643\\n        Else (feature 304 not in {1.0})\\n         Predict: 0.2137857694694839\\n       Else (feature 309 > 19.5)\\n        If (feature 310 <= 96.5)\\n         Predict: 0.2058677224441059\\n        Else (feature 310 > 96.5)\\n         Predict: 0.23892199618729276\\n     Else (feature 308 > 41.5)\\n      If (feature 307 in {0.0})\\n       If (feature 310 <= 96.5)\\n        If (feature 306 in {1.0})\\n         Predict: 0.2117349325871452\\n        Else (feature 306 not in {1.0})\\n         Predict: 0.21398298407880362\\n       Else (feature 310 > 96.5)\\n        If (feature 184 in {0.0})\\n         Predict: 0.24238848033382507\\n        Else (feature 184 not in {0.0})\\n         Predict: 0.475167785235044\\n      Else (feature 307 not in {0.0})\\n       If (feature 21 in {0.0})\\n        If (feature 312 <= 0.07261159361745101)\\n         Predict: 0.2512065455093884\\n        Else (feature 312 > 0.07261159361745101)\\n         Predict: 0.2689077181208054\\n       Else (feature 21 not in {0.0})\\n        If (feature 0 in {0.0})\\n         Predict: 0.28763183125599234\\n        Else (feature 0 not in {0.0})\\n         Predict: 0.3526845637583893\\n  Tree 17 (weight 1.0):\\n    If (feature 310 <= 58.5)\\n     If (feature 310 <= 14.5)\\n      If (feature 308 <= 32.5)\\n       If (feature 310 <= 1.5)\\n        If (feature 308 <= 17.5)\\n         Predict: 0.17122142215816666\\n        Else (feature 308 > 17.5)\\n         Predict: 0.17354820650612257\\n       Else (feature 310 > 1.5)\\n        If (feature 312 <= 0.11926883457887295)\\n         Predict: 0.17548797798286914\\n        Else (feature 312 > 0.11926883457887295)\\n         Predict: 0.1747857523723362\\n      Else (feature 308 > 32.5)\\n       If (feature 308 <= 41.5)\\n        If (feature 16 in {1.0})\\n         Predict: 0.17325915166399594\\n        Else (feature 16 not in {1.0})\\n         Predict: 0.1781345744608656\\n       Else (feature 308 > 41.5)\\n        If (feature 310 <= 0.5)\\n         Predict: 0.18321051694771553\\n        Else (feature 310 > 0.5)\\n         Predict: 0.1878092539672426\\n     Else (feature 310 > 14.5)\\n      If (feature 310 <= 39.5)\\n       If (feature 309 <= 14.5)\\n        If (feature 308 <= 41.5)\\n         Predict: 0.18112216476381193\\n        Else (feature 308 > 41.5)\\n         Predict: 0.19479355238853552\\n       Else (feature 309 > 14.5)\\n        If (feature 9 in {0.0})\\n         Predict: 0.18652784073947148\\n        Else (feature 9 not in {0.0})\\n         Predict: 0.1888998552441116\\n      Else (feature 310 > 39.5)\\n       If (feature 309 <= 18.5)\\n        If (feature 5 in {1.0})\\n         Predict: 0.18876433573805246\\n        Else (feature 5 not in {1.0})\\n         Predict: 0.189950952879943\\n       Else (feature 309 > 18.5)\\n        If (feature 309 <= 32.5)\\n         Predict: 0.19556922232479232\\n        Else (feature 309 > 32.5)\\n         Predict: 0.2035494893773699\\n    Else (feature 310 > 58.5)\\n     If (feature 305 in {1.0})\\n      If (feature 310 <= 96.5)\\n       If (feature 16 in {0.0})\\n        If (feature 308 <= 41.5)\\n         Predict: 0.19847835604594227\\n        Else (feature 308 > 41.5)\\n         Predict: 0.214846381771074\\n       Else (feature 16 not in {0.0})\\n        If (feature 309 <= 8.5)\\n         Predict: 0.20248339716785552\\n        Else (feature 309 > 8.5)\\n         Predict: 0.20625811420398285\\n      Else (feature 310 > 96.5)\\n       If (feature 282 in {0.0})\\n        If (feature 0 in {0.0,1.0,2.0,4.0,6.0,9.0,10.0,12.0,13.0,16.0})\\n         Predict: 0.22561563265553897\\n        Else (feature 0 not in {0.0,1.0,2.0,4.0,6.0,9.0,10.0,12.0,13.0,16.0})\\n         Predict: 0.2308748893557168\\n       Else (feature 282 not in {0.0})\\n        If (feature 311 <= 3.5)\\n         Predict: 0.34563758389261745\\n        Else (feature 311 > 3.5)\\n         Predict: 0.35906040268456374\\n     Else (feature 305 not in {1.0})\\n      If (feature 309 <= 11.5)\\n       If (feature 310 <= 96.5)\\n        If (feature 308 <= 41.5)\\n         Predict: 0.19779953311274673\\n        Else (feature 308 > 41.5)\\n         Predict: 0.21120295641831643\\n       Else (feature 310 > 96.5)\\n        If (feature 307 in {0.0})\\n         Predict: 0.22677640712817584\\n        Else (feature 307 not in {0.0})\\n         Predict: 0.24397290815582132\\n      Else (feature 309 > 11.5)\\n       If (feature 312 <= 0.15198949707129872)\\n        If (feature 282 in {0.0})\\n         Predict: 0.22147435996770584\\n        Else (feature 282 not in {0.0})\\n         Predict: 0.36442953020132335\\n       Else (feature 312 > 0.15198949707129872)\\n        If (feature 309 <= 30.5)\\n         Predict: 0.2180876347756637\\n        Else (feature 309 > 30.5)\\n         Predict: 0.2337054723799693\\n  Tree 18 (weight 1.0):\\n    If (feature 310 <= 58.5)\\n     If (feature 309 <= 17.5)\\n      If (feature 305 in {0.0})\\n       If (feature 310 <= 14.5)\\n        If (feature 9 in {0.0})\\n         Predict: 0.17272198340540518\\n        Else (feature 9 not in {0.0})\\n         Predict: 0.17354389247893406\\n       Else (feature 310 > 14.5)\\n        If (feature 312 <= 0.15198949707129872)\\n         Predict: 0.1841997541627995\\n        Else (feature 312 > 0.15198949707129872)\\n         Predict: 0.1833919053438565\\n      Else (feature 305 not in {0.0})\\n       If (feature 310 <= 14.5)\\n        If (feature 308 <= 35.5)\\n         Predict: 0.17245817602386004\\n        Else (feature 308 > 35.5)\\n         Predict: 0.18287706038698037\\n       Else (feature 310 > 14.5)\\n        If (feature 310 <= 27.5)\\n         Predict: 0.1802621182682084\\n        Else (feature 310 > 27.5)\\n         Predict: 0.18727393734831813\\n     Else (feature 309 > 17.5)\\n      If (feature 0 in {2.0,4.0,5.0,7.0,8.0,9.0,10.0,12.0,13.0,17.0,19.0})\\n       If (feature 310 <= 13.5)\\n        If (feature 9 in {0.0})\\n         Predict: 0.17643012378605916\\n        Else (feature 9 not in {0.0})\\n         Predict: 0.17819721650171738\\n       Else (feature 310 > 13.5)\\n        If (feature 0 in {5.0,9.0,10.0,12.0,17.0})\\n         Predict: 0.18845195743092436\\n        Else (feature 0 not in {5.0,9.0,10.0,12.0,17.0})\\n         Predict: 0.1907921199078942\\n      Else (feature 0 not in {2.0,4.0,5.0,7.0,8.0,9.0,10.0,12.0,13.0,17.0,19.0})\\n       If (feature 309 <= 32.5)\\n        If (feature 310 <= 13.5)\\n         Predict: 0.17644540905374106\\n        Else (feature 310 > 13.5)\\n         Predict: 0.18922580021360177\\n       Else (feature 309 > 32.5)\\n        If (feature 308 <= 41.5)\\n         Predict: 0.1855956737303396\\n        Else (feature 308 > 41.5)\\n         Predict: 0.2062228476582233\\n    Else (feature 310 > 58.5)\\n     If (feature 310 <= 96.5)\\n      If (feature 312 <= 0.16693597253080186)\\n       If (feature 308 <= 41.5)\\n        If (feature 0 in {0.0,4.0,6.0,7.0,9.0,12.0,14.0})\\n         Predict: 0.19792846099820702\\n        Else (feature 0 not in {0.0,4.0,6.0,7.0,9.0,12.0,14.0})\\n         Predict: 0.19916255693461998\\n       Else (feature 308 > 41.5)\\n        If (feature 309 <= 22.5)\\n         Predict: 0.21255538991288261\\n        Else (feature 309 > 22.5)\\n         Predict: 0.226583124891651\\n      Else (feature 312 > 0.16693597253080186)\\n       If (feature 10 in {1.0})\\n        If (feature 0 in {0.0,9.0,11.0,14.0,16.0,17.0,18.0})\\n         Predict: 0.19619777008010392\\n        Else (feature 0 not in {0.0,9.0,11.0,14.0,16.0,17.0,18.0})\\n         Predict: 0.19749026141643589\\n       Else (feature 10 not in {1.0})\\n        If (feature 44 in {1.0})\\n         Predict: 0.19688098293745132\\n        Else (feature 44 not in {1.0})\\n         Predict: 0.1988111497979301\\n     Else (feature 310 > 96.5)\\n      If (feature 234 in {0.0})\\n       If (feature 308 <= 41.5)\\n        If (feature 309 <= 13.5)\\n         Predict: 0.22629156528196728\\n        Else (feature 309 > 13.5)\\n         Predict: 0.23512618547357747\\n       Else (feature 308 > 41.5)\\n        If (feature 307 in {0.0})\\n         Predict: 0.24326371991933574\\n        Else (feature 307 not in {0.0})\\n         Predict: 0.2636783857060316\\n      Else (feature 234 not in {0.0})\\n       If (feature 306 in {0.0})\\n        If (feature 307 in {0.0})\\n         Predict: 0.30891658676893574\\n        Else (feature 307 not in {0.0})\\n         Predict: 0.440268456375839\\n       Else (feature 306 not in {0.0})\\n        If (feature 308 <= 13.5)\\n         Predict: 0.2576062639821029\\n        Else (feature 308 > 13.5)\\n         Predict: 0.46845637583892624\\n  Tree 19 (weight 1.0):\\n    If (feature 308 <= 34.5)\\n     If (feature 310 <= 58.5)\\n      If (feature 310 <= 14.5)\\n       If (feature 309 <= 14.5)\\n        If (feature 308 <= 18.5)\\n         Predict: 0.17176849309036218\\n        Else (feature 308 > 18.5)\\n         Predict: 0.1743788377708282\\n       Else (feature 309 > 14.5)\\n        If (feature 308 <= 17.5)\\n         Predict: 0.1748962270313004\\n        Else (feature 308 > 17.5)\\n         Predict: 0.17756169689017168\\n      Else (feature 310 > 14.5)\\n       If (feature 310 <= 39.5)\\n        If (feature 309 <= 14.5)\\n         Predict: 0.1809564817116009\\n        Else (feature 309 > 14.5)\\n         Predict: 0.18524099577913009\\n       Else (feature 310 > 39.5)\\n        If (feature 308 <= 19.5)\\n         Predict: 0.1883080633663336\\n        Else (feature 308 > 19.5)\\n         Predict: 0.19146800873730202\\n     Else (feature 310 > 58.5)\\n      If (feature 307 in {0.0})\\n       If (feature 305 in {1.0})\\n        If (feature 310 <= 96.5)\\n         Predict: 0.1981905787504504\\n        Else (feature 310 > 96.5)\\n         Predict: 0.22567922049634467\\n       Else (feature 305 not in {1.0})\\n        If (feature 310 <= 96.5)\\n         Predict: 0.19800260261747293\\n        Else (feature 310 > 96.5)\\n         Predict: 0.22624673231543282\\n      Else (feature 307 not in {0.0})\\n       If (feature 10 in {1.0})\\n        If (feature 310 <= 96.5)\\n         Predict: 0.1978061023066945\\n        Else (feature 310 > 96.5)\\n         Predict: 0.22285935540969096\\n       Else (feature 10 not in {1.0})\\n        If (feature 312 <= 0.31397697434861643)\\n         Predict: 0.2415550533885833\\n        Else (feature 312 > 0.31397697434861643)\\n         Predict: 0.2213147755668065\\n    Else (feature 308 > 34.5)\\n     If (feature 306 in {0.0})\\n      If (feature 304 in {1.0})\\n       If (feature 308 <= 41.5)\\n        If (feature 0 in {4.0,5.0,9.0,14.0,15.0,16.0,18.0,19.0})\\n         Predict: 0.17915752943956384\\n        Else (feature 0 not in {4.0,5.0,9.0,14.0,15.0,16.0,18.0,19.0})\\n         Predict: 0.18221269189607936\\n       Else (feature 308 > 41.5)\\n        If (feature 0 in {4.0,5.0,7.0,9.0,10.0,12.0,13.0,14.0,15.0})\\n         Predict: 0.18662214650996994\\n        Else (feature 0 not in {4.0,5.0,7.0,9.0,10.0,12.0,13.0,14.0,15.0})\\n         Predict: 0.19193841845263346\\n      Else (feature 304 not in {1.0})\\n       If (feature 16 in {1.0})\\n        If (feature 307 in {0.0})\\n         Predict: 0.18399396914712848\\n        Else (feature 307 not in {0.0})\\n         Predict: 0.21605863413749313\\n       Else (feature 16 not in {1.0})\\n        If (feature 310 <= 58.5)\\n         Predict: 0.18706333959208662\\n        Else (feature 310 > 58.5)\\n         Predict: 0.22616503761091816\\n     Else (feature 306 not in {0.0})\\n      If (feature 308 <= 41.5)\\n       If (feature 0 in {4.0,5.0,7.0,8.0,9.0,10.0,12.0,14.0,15.0,18.0})\\n        If (feature 310 <= 58.5)\\n         Predict: 0.17934452140021823\\n        Else (feature 310 > 58.5)\\n         Predict: 0.2171824960822465\\n       Else (feature 0 not in {4.0,5.0,7.0,8.0,9.0,10.0,12.0,14.0,15.0,18.0})\\n        If (feature 21 in {1.0})\\n         Predict: 0.1844464716231185\\n        Else (feature 21 not in {1.0})\\n         Predict: 0.19346409502090514\\n      Else (feature 308 > 41.5)\\n       If (feature 2 in {0.0})\\n        If (feature 18 in {1.0})\\n         Predict: 0.19163951625308742\\n        Else (feature 18 not in {1.0})\\n         Predict: 0.19826580121676932\\n       Else (feature 2 not in {0.0})\\n        If (feature 310 <= 96.5)\\n         Predict: 0.19866081675373443\\n        Else (feature 310 > 96.5)\\n         Predict: 0.2413490860730523\\n'"
      ]
     },
     "execution_count": 51,
     "metadata": {},
     "output_type": "execute_result"
    }
   ],
   "source": [
    "tree.toDebugString"
   ]
  },
  {
   "cell_type": "markdown",
   "metadata": {},
   "source": [
    "# Evaluation"
   ]
  },
  {
   "cell_type": "markdown",
   "metadata": {},
   "source": [
    "## Model prediction using test dataset without nulls."
   ]
  },
  {
   "cell_type": "code",
   "execution_count": 52,
   "metadata": {},
   "outputs": [],
   "source": [
    "result_df = dtModel.transform(test_df)"
   ]
  },
  {
   "cell_type": "markdown",
   "metadata": {},
   "source": [
    "## Display comparison results between *Actual* Arival delay VS *Predicted* Arrival delay"
   ]
  },
  {
   "cell_type": "code",
   "execution_count": 53,
   "metadata": {},
   "outputs": [
    {
     "ename": "SyntaxError",
     "evalue": "invalid syntax (<ipython-input-53-33f3cfd26e9e>, line 1)",
     "output_type": "error",
     "traceback": [
      "\u001b[0;36m  File \u001b[0;32m\"<ipython-input-53-33f3cfd26e9e>\"\u001b[0;36m, line \u001b[0;32m1\u001b[0m\n\u001b[0;31m    result_df.select(['ArrDelay', 'Prediction']).show()b\u001b[0m\n\u001b[0m                                                       ^\u001b[0m\n\u001b[0;31mSyntaxError\u001b[0m\u001b[0;31m:\u001b[0m invalid syntax\n"
     ]
    }
   ],
   "source": [
    "result_df.select(['ArrDelay', 'Prediction']).show()b"
   ]
  },
  {
   "cell_type": "code",
   "execution_count": 54,
   "metadata": {},
   "outputs": [],
   "source": [
    "from pyspark.ml.evaluation import RegressionEvaluator"
   ]
  },
  {
   "cell_type": "markdown",
   "metadata": {},
   "source": [
    "### Filter some tuples (records"
   ]
  },
  {
   "cell_type": "code",
   "execution_count": 55,
   "metadata": {},
   "outputs": [],
   "source": [
    "new_test_df1 = test_df.filter(test_df.Origin != 'TUP')\\\n",
    ".filter(test_df.Origin != 'PIR')\\\n",
    ".filter(test_df.Dest != 'TUP')\\\n",
    ".filter(test_df.Dest != 'PIR')\\\n",
    ".filter(test_df.Origin != 'PUB')\\\n",
    ".filter(test_df.DepTime != '425')\\\n",
    ".filter(test_df.DepTime != '328')\\\n",
    ".filter(test_df.DepTime != '437')\\\n",
    ".filter(test_df.DepTime != '400')\\\n",
    ".filter(test_df.DepTime != '414')\\\n",
    ".filter(test_df.DepTime != '424')\\\n",
    ".filter(test_df.DepTime != '439')\\\n",
    ".filter(test_df.DepTime != '338')\\\n",
    ".filter(test_df.DepTime != '359')\\\n",
    ".filter(test_df.DepTime != '412')\\\n",
    ".filter(test_df.DepTime != '430')"
   ]
  },
  {
   "cell_type": "markdown",
   "metadata": {},
   "source": [
    "### Perform prediction using test dataset without nulls"
   ]
  },
  {
   "cell_type": "code",
   "execution_count": 58,
   "metadata": {},
   "outputs": [],
   "source": [
    "everesult_df = dtModel.transform(new_test_df1)"
   ]
  },
  {
   "cell_type": "code",
   "execution_count": 59,
   "metadata": {},
   "outputs": [
    {
     "name": "stdout",
     "output_type": "stream",
     "text": [
      "R Squared (R2) on test data = 0.73922\n"
     ]
    }
   ],
   "source": [
    "lr_evaluator_r2 = RegressionEvaluator\\\n",
    "(predictionCol=\"prediction\",labelCol=\"ArrDelay\",metricName=\"r2\")\n",
    "print(\"R Squared (R2) on test data = %g\" \\\n",
    "     % lr_evaluator_r2.evaluate(everesult_df))"
   ]
  },
  {
   "cell_type": "code",
   "execution_count": 61,
   "metadata": {},
   "outputs": [
    {
     "name": "stdout",
     "output_type": "stream",
     "text": [
      "Root Mean Squared Error (RMSE) on test data = 0.00659631\n"
     ]
    }
   ],
   "source": [
    "lr_evaluator_rmse = RegressionEvaluator\\\n",
    "(predictionCol=\"prediction\",labelCol=\"ArrDelay\",metricName=\"rmse\")\n",
    "print(\"Root Mean Squared Error (RMSE) on test data = %g\" \\\n",
    "     % lr_evaluator_rmse.evaluate(everesult_df))"
   ]
  },
  {
   "cell_type": "code",
   "execution_count": null,
   "metadata": {},
   "outputs": [],
   "source": []
  }
 ],
 "metadata": {
  "kernelspec": {
   "display_name": "PySpark",
   "language": "python",
   "name": "pyspark"
  },
  "language_info": {
   "codemirror_mode": {
    "name": "ipython",
    "version": 3
   },
   "file_extension": ".py",
   "mimetype": "text/x-python",
   "name": "python",
   "nbconvert_exporter": "python",
   "pygments_lexer": "ipython3",
   "version": "3.7.3"
  }
 },
 "nbformat": 4,
 "nbformat_minor": 4
}