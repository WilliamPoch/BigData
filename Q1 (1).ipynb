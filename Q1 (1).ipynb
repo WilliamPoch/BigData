{
 "cells": [
  {
   "cell_type": "markdown",
   "metadata": {
    "scrolled": true
   },
   "source": [
    "## William Sivutha Poch 5938122 \n",
    "# Big data project 1\n",
    "## Query 1"
   ]
  },
  {
   "cell_type": "markdown",
   "metadata": {},
   "source": [
    "### Download facebook dataset"
   ]
  },
  {
   "cell_type": "code",
   "execution_count": 1,
   "metadata": {
    "scrolled": true
   },
   "outputs": [],
   "source": [
    "# ! wget https://download.data.world/s/etiswtd7xih7fxhsvsgdxm6bxmznfj -O abc.csv\n",
    "# ! wget https://download.data.world/s/c54sbdqkgro5w6w2tuhyfn5kwusztv -O bbc.csv\n",
    "# ! wget https://download.data.world/s/at7oomaccb2sr7b3l46hl7oe5eh3w2 -O cbs.csv\n",
    "# ! wget https://download.data.world/s/jxwxasqakdeitce45tgmvk54yliwos -O cnn.csv\n",
    "# ! wget https://download.data.world/s/s7367nitc57qq3zpif32dju26tzj4w -O foxfriends.csv\n",
    "# ! wget https://download.data.world/s/r3vz63lumdk652wtlo23np332z77av -O foxnews.csv\n",
    "# ! wget https://download.data.world/s/uemffyw6qnwrzyi3my3uqn46dpyfpm -O nbc.csv\n",
    "# ! wget https://download.data.world/s/3sjhaah6yajvxznnr3pegibm2mavns -O la.csv\n",
    "# ! wget https://download.data.world/s/p5p7shwkl4iscqy7z32fj3y4k4cbur -O npr.csv\n"
   ]
  },
  {
   "cell_type": "code",
   "execution_count": 2,
   "metadata": {},
   "outputs": [
    {
     "name": "stdout",
     "output_type": "stream",
     "text": [
      "-rw-r--r-- 1 root root 689413344 Feb 13  2015 2008.csv\r\n",
      "-rw-r--r-- 1 root root  25715035 Apr 15 07:09 abc.csv\r\n",
      "-rw-r--r-- 1 root root  10898457 Apr 15 07:09 bbc.csv\r\n",
      "-rw-r--r-- 1 root root  24471499 Apr 15 07:10 cbs.csv\r\n",
      "-rw-r--r-- 1 root root  18647650 Apr 15 07:10 cnn.csv\r\n",
      "-rw-r--r-- 1 root root   3229054 Apr 15 07:10 foxfriends.csv\r\n",
      "-rw-r--r-- 1 root root  20942622 Apr 15 07:10 foxnews.csv\r\n",
      "-rw-r--r-- 1 root root  22303147 Apr 15 07:10 la.csv\r\n",
      "-rw-r--r-- 1 root root  29574015 Apr 15 07:10 nbc.csv\r\n",
      "-rw-r--r-- 1 root root  30733654 Apr 15 07:10 npr.csv\r\n"
     ]
    }
   ],
   "source": [
    "# View the files\n",
    "! ls -l *.csv"
   ]
  },
  {
   "cell_type": "markdown",
   "metadata": {},
   "source": [
    "## Copy csv files from local to the HDFS"
   ]
  },
  {
   "cell_type": "code",
   "execution_count": 3,
   "metadata": {},
   "outputs": [],
   "source": [
    "# ! hdfs dfs -put abc.csv \n",
    "# ! hdfs dfs -put bbc.csv\n",
    "# ! hdfs dfs -put cbs.csv\n",
    "# ! hdfs dfs -put cnn.csv\n",
    "# ! hdfs dfs -put foxfriends.csv\n",
    "# ! hdfs dfs -put foxnews.csv\n",
    "# ! hdfs dfs -put nbc.csv\n",
    "# ! hdfs dfs -put la.csv\n",
    "# ! hdfs dfs -put npr.csv"
   ]
  },
  {
   "cell_type": "code",
   "execution_count": 4,
   "metadata": {},
   "outputs": [
    {
     "name": "stdout",
     "output_type": "stream",
     "text": [
      "Found 10 items\r\n",
      "drwxr-xr-x   - root hadoop          0 2020-04-15 09:53 .sparkStaging\r\n",
      "-rw-r--r--   2 root hadoop   25715035 2020-04-11 15:36 abc.csv\r\n",
      "-rw-r--r--   2 root hadoop   10898457 2020-04-11 15:36 bbc.csv\r\n",
      "-rw-r--r--   2 root hadoop   24471499 2020-04-11 15:36 cbs.csv\r\n",
      "-rw-r--r--   2 root hadoop   18647650 2020-04-11 15:58 cnn.csv\r\n",
      "-rw-r--r--   2 root hadoop    3229054 2020-04-11 15:36 foxfriends.csv\r\n",
      "-rw-r--r--   2 root hadoop   20942622 2020-04-11 15:36 foxnews.csv\r\n",
      "-rw-r--r--   2 root hadoop   22303147 2020-04-11 15:36 la.csv\r\n",
      "-rw-r--r--   2 root hadoop   29574015 2020-04-11 15:36 nbc.csv\r\n",
      "-rw-r--r--   2 root hadoop   30733654 2020-04-11 15:37 npr.csv\r\n"
     ]
    }
   ],
   "source": [
    "# View the files in hdfs\n",
    "! hdfs dfs -ls ./"
   ]
  },
  {
   "cell_type": "markdown",
   "metadata": {},
   "source": [
    "## Read all csv files and remove headers from them"
   ]
  },
  {
   "cell_type": "code",
   "execution_count": 5,
   "metadata": {},
   "outputs": [],
   "source": [
    "rdd1 = sc.textFile('npr.csv').cache()\n",
    "rdd2 = sc.textFile('abc.csv').cache()\n",
    "rdd3 = sc.textFile('cbs.csv').cache()\n",
    "rdd4 = sc.textFile('cnn.csv').cache()\n",
    "rdd5 = sc.textFile('foxfriends.csv').cache()\n",
    "rdd6 = sc.textFile('foxnews.csv').cache()\n",
    "rdd7 = sc.textFile('la.csv').cache()\n",
    "rdd8 = sc.textFile('nbc.csv').cache()\n",
    "rdd9 = sc.textFile('bbc.csv').cache()\n",
    "\n",
    "# Function to remove the header.\n",
    "def remove_header(x):\n",
    "    header = x.first()\n",
    "    return x.filter(lambda row: row != header)\n",
    "\n",
    "rdd1 = remove_header(rdd1)\n",
    "rdd2 = remove_header(rdd2)\n",
    "rdd3 = remove_header(rdd3)\n",
    "rdd4 = remove_header(rdd4)\n",
    "rdd5 = remove_header(rdd5)\n",
    "rdd6 = remove_header(rdd6)\n",
    "rdd7 = remove_header(rdd7)\n",
    "rdd8 = remove_header(rdd8)\n",
    "rdd9 = remove_header(rdd9)"
   ]
  },
  {
   "cell_type": "markdown",
   "metadata": {},
   "source": [
    "## Merge all into one RDD"
   ]
  },
  {
   "cell_type": "code",
   "execution_count": 6,
   "metadata": {
    "scrolled": true
   },
   "outputs": [
    {
     "data": {
      "text/plain": [
       "['\"\\ufeff\"\"10643211755_255251391226420\"\"\",10643211755,From KPLU: Why most people get divorced in March,NULL,Divorce is a nasty business and this time of the year business is booming. KPLU looks at the reasons divorce filings peak in March every year.,kplu.org,link,shared_story,538,244,525,0,0,0,0,0,0,http://www.kplu.org/post/why-most-people-get-divorced-march,https://external.xx.fbcdn.net/safe_image.php?d=AQDfZ4ruY3ZHcwTr&w=130&h=130&url=http%3A%2F%2Fmediad.publicbroadcasting.net%2Fp%2Fkplu%2Ffiles%2Fdivorce_sign.jpg&cfs=1,2012-03-07T12:50:24',\n",
       " '\"\\ufeff\"\"10643211755_388881894474609\"\"\",10643211755,\"How Do You Ship A Horse To The London Olympics? Carefully, And Via FedEx\",NULL,\"The elite athletes who travel to London for this summer\\'s Olympic Games will include petite gymnasts, huge wrestlers — and elite horses, which compete in dressage and other events. The man whose job it is to get 50-60 horses to England says, \\'It\\'s quite a logistical feat.\\'\",npr.org,link,shared_story,1507,132,1349,0,0,0,0,0,0,http://www.npr.org/blogs/thetwo-way/2012/03/07/148085883/how-do-you-ship-a-horse-to-the-2012-london-olympics,https://external.xx.fbcdn.net/safe_image.php?d=AQD4TqJbDUQAGoNZ&w=130&h=130&url=http%3A%2F%2Fmedia.npr.org%2Fassets%2Fimg%2F2012%2F03%2F06%2Fhorse_olympics_custom.jpg%3Ft%3D1331078523&cfs=1,2012-03-07T14:17:24']"
      ]
     },
     "execution_count": 6,
     "metadata": {},
     "output_type": "execute_result"
    }
   ],
   "source": [
    "data = sc.union([rdd1, rdd2, rdd3, rdd4, rdd5, rdd6, rdd7, rdd8, rdd9])\n",
    "data.take(2)"
   ]
  },
  {
   "cell_type": "markdown",
   "metadata": {},
   "source": [
    "### Download NLTK for natural language processing"
   ]
  },
  {
   "cell_type": "code",
   "execution_count": 7,
   "metadata": {},
   "outputs": [
    {
     "name": "stdout",
     "output_type": "stream",
     "text": [
      "Requirement already satisfied: cython in /opt/conda/lib/python3.7/site-packages (0.29.16)\n",
      "Requirement already satisfied: nltk in /opt/conda/lib/python3.7/site-packages (3.5)\n",
      "Requirement already satisfied: tqdm in /opt/conda/lib/python3.7/site-packages (from nltk) (4.32.1)\n",
      "Requirement already satisfied: regex in /opt/conda/lib/python3.7/site-packages (from nltk) (2020.4.4)\n",
      "Requirement already satisfied: joblib in /opt/conda/lib/python3.7/site-packages (from nltk) (0.14.1)\n",
      "Requirement already satisfied: click in /opt/conda/lib/python3.7/site-packages (from nltk) (7.1.1)\n",
      "Requirement already up-to-date: nltk in /opt/conda/lib/python3.7/site-packages (3.5)\n",
      "Requirement already satisfied, skipping upgrade: tqdm in /opt/conda/lib/python3.7/site-packages (from nltk) (4.32.1)\n",
      "Requirement already satisfied, skipping upgrade: regex in /opt/conda/lib/python3.7/site-packages (from nltk) (2020.4.4)\n",
      "Requirement already satisfied, skipping upgrade: joblib in /opt/conda/lib/python3.7/site-packages (from nltk) (0.14.1)\n",
      "Requirement already satisfied, skipping upgrade: click in /opt/conda/lib/python3.7/site-packages (from nltk) (7.1.1)\n"
     ]
    }
   ],
   "source": [
    "# Download and install nltk\n",
    "!pip install cython nltk\n",
    "import nltk \n",
    "# nltk.download('all')\n",
    "!pip install --upgrade nltk\n",
    "# Import stop words \n",
    "from nltk.corpus import stopwords \n",
    "from nltk.tokenize import word_tokenize \n",
    "stop_words = set(stopwords.words('english'))"
   ]
  },
  {
   "cell_type": "markdown",
   "metadata": {},
   "source": [
    "## Clean the text for easier processing\n",
    "Remove puncuations, symbols and numbers"
   ]
  },
  {
   "cell_type": "code",
   "execution_count": 8,
   "metadata": {},
   "outputs": [],
   "source": [
    "# Clean the text\n",
    "def lower_clean_str(x):\n",
    "    punc='!\"#$%&\\'()*+-./:;<=>?@[\\\\]^_`{|}~0123456789'\n",
    "    lowercased_str = x.lower()\n",
    "    for ch in punc:\n",
    "        lowercased_str = lowercased_str.replace(ch, '')\n",
    "    return lowercased_str\n",
    "\n",
    "data2 = data.map(lower_clean_str)"
   ]
  },
  {
   "cell_type": "code",
   "execution_count": 9,
   "metadata": {},
   "outputs": [
    {
     "data": {
      "text/plain": [
       "['\\ufeff,,from kplu why most people get divorced in march,null,divorce is a nasty business and this time of the year business is booming kplu looks at the reasons divorce filings peak in march every year,kpluorg,link,sharedstory,,,,,,,,,,httpwwwkpluorgpostwhymostpeoplegetdivorcedmarch,httpsexternalxxfbcdnnetsafeimagephpdaqdfzruyzhcwtrwhurlhttpaffmediadpublicbroadcastingnetfpfkpluffilesfdivorcesignjpgcfs,t',\n",
       " '\\ufeff,,how do you ship a horse to the london olympics carefully, and via fedex,null,the elite athletes who travel to london for this summers olympic games will include petite gymnasts, huge wrestlers — and elite horses, which compete in dressage and other events the man whose job it is to get  horses to england says, its quite a logistical feat,nprorg,link,sharedstory,,,,,,,,,,httpwwwnprorgblogsthetwowayhowdoyoushipahorsetothelondonolympics,httpsexternalxxfbcdnnetsafeimagephpdaqdtqjbduqagonzwhurlhttpaffmedianprorgfassetsfimgffffhorseolympicscustomjpgftdcfs,t',\n",
       " '\\ufeff,,unmarked ordinary scenes with unsettling stories,null,these photos seem like perfectly quiet — beautiful, even — landscapes but read the captions and you might start to second guess how beautiful they are thats the experience stephen chalmers is trying to evoke because thats the experience he had,nprorg,link,sharedstory,,,,,,,,,,httpwwwnprorgblogspictureshowunmarkedordinarysceneswithunsettlingstories,httpsexternalxxfbcdnnetsafeimagephpdaqcyetxicdwhurlhttpaffmedianprorgfassetsfimgffffdebraestesjpgftdcfs,t',\n",
       " '\\ufeff,,the three little pigs and the future of journalism,null,in an actionpacked, twominute remake of the classic tale, the guardian of london introduces us to open journalism, where newsgatherers are inviting readers to participate in the increasingly raw and loud new media landscape,nprorg,link,sharedstory,,,,,,,,,,httpwwwnprorgblogskrulwichthethreelittlepigsandthefutureofjournalsim,httpsexternalxxfbcdnnetsafeimagephpdaqbugjdokmhuqwhurlhttpaffmedianprorgfassetsfimgffffthreelittlepigswidejpgftdcfs,t',\n",
       " '\\ufeff,,double take toons close enough for govt work,null,mitt romney won six of  states on super tuesday according to chris weyant he has yet to obtain the fullhearted support of the republican party rick mckee thinks the low turnout in most of primaries this year could be kryptonite to the partys chances to recapture the presidency in november,nprorg,link,sharedstory,,,,,,,,,,httpwwwnprorgcloseenoughforgovtwork,httpsexternalxxfbcdnnetsafeimagephpdaqbrnmyqtxpwhurlhttpaffmedianprorgfassetsfimgffffafcspjpgftdcfs,t',\n",
       " '\\ufeff,,ugandan warlord joseph kony under spotlight thanks to viral video,null,the hashtag term stopkony is trending on twitter, redditcom has been deluged with posts about kony, all thanks to an activist groups new video questions have been raised, however, over the lack of reference to “ugandan atrocities or those of sudans peoples liberation army, such as attacks agai,nprorg,link,sharedstory,,,,,,,,,,httpwwwnprorgblogsthetwowayugandanwarlordjosephkonyunderspotlightthankstoviralvideo,httpsexternalxxfbcdnnetsafeimagephpdaqdlslxboeoigdwhurlhttpaffmedianprorgfassetsfimgfffftroopsworldwidejpgftdcfssxsyswsh,t',\n",
       " '\\ufeff,,is the world an idea,null,is reality invented by our minds or are there truths out there for us to grasp these are ageold questions that we have yet to fully answer still, we keep trying,nprorg,link,sharedstory,,,,,,,,,,httpwwwnprorgblogsistheworldanidea,httpsexternalxxfbcdnnetsafeimagephpdaqdmqyhjhhbvttwhurlhttpaffmedianprorgfassetsfimgffffplatobustcustomjpgftdcfs,t',\n",
       " '\\ufeff,,book of revelation visions, prophecy and politics,null,princeton religious scholar elaine pagels puts the tales of death and destruction from the new testaments final book into historical context in revelations visions, prophecy and politics in the book of revelation,nprorg,link,sharedstory,,,,,,,,,,httpwwwnprorgthebookofrevelationvisionsprophecypolitics,httpsexternalxxfbcdnnetsafeimagephpdaqbcrdniljlhvruwhurlhttpaffmedianprorgfassetsfimgffffrevelationscoverjpgftdcfssxsyswsh,t',\n",
       " '\\ufeff,,sun sends solar flares speeding toward earth will hit thursday video,null,the sun ejected two huge solar flares tuesday, and nasa says that we here on earth will likely be affected somewhat by the magnetic fields and ionized gas that are now shooting toward the planet but the phenomena might also bring aurora light shows to residents of the northern united states,nprorg,link,sharedstory,,,,,,,,,,httpwwwnprorgblogsthetwowaysunsendssolarflaresspeedingtowardearthwillhitthursdayvideo,httpsexternalxxfbcdnnetsafeimagephpdaqdhxeddfxoyyzwhurlhttpaffmedianprorgfassetsfimgffffmainflarexorigfullwidejpgftdcfs,t',\n",
       " '\\ufeff,,the secret to glowing yellow skin eat your fruits and veggies,null,eating lots of fruits and veggies gives skin a slightly yellow hue and thats considered more healthy and attractive looking, according to a new study,nprorg,link,sharedstory,,,,,,,,,,httpwwwnprorgblogsthesaltthesecrettoglowingyellowskineatyourfruitsandveggies,httpsexternalxxfbcdnnetsafeimagephpdaqajrxfqxjfceakowhurlhttpaffmedianprorgfassetsfimgffffistocksmallwidejpgftdcfs,t']"
      ]
     },
     "execution_count": 9,
     "metadata": {},
     "output_type": "execute_result"
    }
   ],
   "source": [
    "data2.take(10)"
   ]
  },
  {
   "cell_type": "markdown",
   "metadata": {},
   "source": [
    "## Split into words\n",
    "Retrieve only names, messages, descriptions, and captions <br>\n",
    "Since the data is still very large, remove stop words and nulls"
   ]
  },
  {
   "cell_type": "code",
   "execution_count": 10,
   "metadata": {
    "scrolled": true
   },
   "outputs": [
    {
     "data": {
      "text/plain": [
       "['kplu', 'people', 'get', 'divorced', 'march']"
      ]
     },
     "execution_count": 10,
     "metadata": {},
     "output_type": "execute_result"
    }
   ],
   "source": [
    "# Split into words\n",
    "data2 = data2.flatMap(lambda x: x.split(',')[2:6])\n",
    "data2 = data2.flatMap(lambda x: x.split(' '))\n",
    "# Remove stop words\n",
    "data2 = data2.filter(lambda x: x not in stop_words)\n",
    "remove = [',','null','', ' ', '-']\n",
    "data2 = data2.filter(lambda x: x not in remove)\n",
    "# data2.take(2)\n",
    "data2 = data2.map(lambda x : x.lower())\n",
    "data2.take(5)"
   ]
  },
  {
   "cell_type": "markdown",
   "metadata": {},
   "source": [
    "## Using nltk to tokenize text, then select only nouns\n",
    "Convert to string"
   ]
  },
  {
   "cell_type": "code",
   "execution_count": 11,
   "metadata": {},
   "outputs": [],
   "source": [
    "x = data2.collect()"
   ]
  },
  {
   "cell_type": "code",
   "execution_count": 12,
   "metadata": {},
   "outputs": [],
   "source": [
    "str1 = ' '.join(str(e) for e in x[:int(len(x)/2)] )\n",
    "str2 = ' '.join(str(e) for e in x[int(len(x)/2):])\n",
    "x = []"
   ]
  },
  {
   "cell_type": "markdown",
   "metadata": {},
   "source": [
    "### Tokenize words with NLTK, check tags for nouns and save only nouns"
   ]
  },
  {
   "cell_type": "code",
   "execution_count": 13,
   "metadata": {},
   "outputs": [],
   "source": [
    "# Using nltk, tokenize words and then using tags to check for nouns\n",
    "# a = [word for (word, pos) in nltk.pos_tag(nltk.word_tokenize(str1)) if pos[0] == 'N']\n",
    "a = [word for (word, pos) in nltk.pos_tag(nltk.word_tokenize(str1)) if pos[0] == 'N']\n",
    "str1 = ''\n",
    "b = [word for (word, pos) in nltk.pos_tag(nltk.word_tokenize(str2)) if pos[0] == 'N']\n",
    "str2 = ''\n",
    "\n",
    "a += b"
   ]
  },
  {
   "cell_type": "markdown",
   "metadata": {},
   "source": [
    "### Merge all the lists together and then convert to RDD."
   ]
  },
  {
   "cell_type": "code",
   "execution_count": 14,
   "metadata": {},
   "outputs": [
    {
     "data": {
      "text/plain": [
       "['kplu', 'people']"
      ]
     },
     "execution_count": 14,
     "metadata": {},
     "output_type": "execute_result"
    }
   ],
   "source": [
    "# Convert it into RDD \n",
    "data3 = sc.parallelize(list(a))\n",
    "a = []\n",
    "data3.take(2)"
   ]
  },
  {
   "cell_type": "markdown",
   "metadata": {},
   "source": [
    "## Find most frequently used nouns"
   ]
  },
  {
   "cell_type": "code",
   "execution_count": 15,
   "metadata": {},
   "outputs": [
    {
     "data": {
      "text/plain": [
       "[(27579, 'photos'),\n",
       " (21701, 'news'),\n",
       " (20438, 'people'),\n",
       " (17754, 'trump'),\n",
       " (17430, 'police'),\n",
       " (17183, 'president'),\n",
       " (16415, '’'),\n",
       " (16312, 'years'),\n",
       " (16044, 'timeline'),\n",
       " (14313, 'man'),\n",
       " (12341, 'world'),\n",
       " (12284, 'clinton'),\n",
       " (11992, 'time'),\n",
       " (11396, 'state'),\n",
       " (11073, 'day'),\n",
       " (10116, 'year'),\n",
       " (9861, 'video'),\n",
       " (9095, 'school'),\n",
       " (8841, '”'),\n",
       " (8515, 'death'),\n",
       " (8513, 'woman'),\n",
       " (8367, 'house'),\n",
       " (8249, '“'),\n",
       " (8019, 'life'),\n",
       " (7959, 'today'),\n",
       " (7880, 'city'),\n",
       " (7830, 'family'),\n",
       " (7732, 'donald'),\n",
       " (7652, 'watch'),\n",
       " (7557, 'week'),\n",
       " (7555, 's'),\n",
       " (7261, 'story'),\n",
       " (7208, 'home'),\n",
       " (7096, 'obama'),\n",
       " (6980, '—'),\n",
       " (6786, 'j'),\n",
       " (6722, 'women'),\n",
       " (6597, 'officials'),\n",
       " (6478, 'morning'),\n",
       " (6167, 'campaign'),\n",
       " (6143, 'way'),\n",
       " (6099, 'court'),\n",
       " (6060, 'isis'),\n",
       " (5877, 'times'),\n",
       " (5755, 'states'),\n",
       " (5613, 'bill'),\n",
       " (5592, 'york'),\n",
       " (5520, 'california'),\n",
       " (5511, 'night'),\n",
       " (5395, 'country')]"
      ]
     },
     "execution_count": 15,
     "metadata": {},
     "output_type": "execute_result"
    }
   ],
   "source": [
    "# Count occurences of words and find most frequently used nouns\n",
    "data3 = data3.map(lambda x : (x,1))\n",
    "from operator import add\n",
    "data3 = data3.reduceByKey(add)\n",
    "data3 = data3.map(lambda x: (x[1], x[0]))\n",
    "data3 = data3.sortByKey(ascending=False)\n",
    "data3.take(50)"
   ]
  },
  {
   "cell_type": "markdown",
   "metadata": {},
   "source": [
    "# Summary \n",
    "<blockquote>\n",
    "From the results given above, we can see the top 50 most frequently used nouns. Although, words such as 'sharedstory', 'link', 'video', etc are less meaningful because they are found in almost every post. They are simply words that are used in facebook posts to determiine the type or parts of a post.\n",
    "<br> \n",
    "Looking more into the list, we see 'police', 'president', 'man', and 'trump' appear very frequently. This gives us an impression of what kind of posts are common. These posts are most likely related to politics and the U.S to be more exact.\n",
    "\n",
    "\n",
    "</blockquote>"
   ]
  },
  {
   "cell_type": "code",
   "execution_count": null,
   "metadata": {},
   "outputs": [],
   "source": []
  }
 ],
 "metadata": {
  "kernelspec": {
   "display_name": "PySpark",
   "language": "python",
   "name": "pyspark"
  },
  "language_info": {
   "codemirror_mode": {
    "name": "ipython",
    "version": 3
   },
   "file_extension": ".py",
   "mimetype": "text/x-python",
   "name": "python",
   "nbconvert_exporter": "python",
   "pygments_lexer": "ipython3",
   "version": "3.7.3"
  }
 },
 "nbformat": 4,
 "nbformat_minor": 4
}
